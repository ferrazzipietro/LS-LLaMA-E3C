{
 "cells": [
  {
   "cell_type": "code",
   "execution_count": 1,
   "metadata": {},
   "outputs": [
    {
     "name": "stderr",
     "output_type": "stream",
     "text": [
      "/home/pferrazzi/LS-LLaMA-E3C/.venv/lib/python3.11/site-packages/tqdm/auto.py:21: TqdmWarning: IProgress not found. Please update jupyter and ipywidgets. See https://ipywidgets.readthedocs.io/en/stable/user_install.html\n",
      "  from .autonotebook import tqdm as notebook_tqdm\n",
      "Special tokens have been added in the vocabulary, make sure the associated word embeddings are fine-tuned or trained.\n"
     ]
    }
   ],
   "source": [
    "\n",
    "import numpy as np\n",
    "import pandas as pd\n",
    "from datasets import load_dataset, Dataset\n",
    "from transformers import AutoTokenizer, BitsAndBytesConfig, pipeline, AutoModelForCausalLM\n",
    "from transformers.pipelines.pt_utils import KeyDataset\n",
    "from peft import PeftModel, PeftConfig\n",
    "from dotenv import dotenv_values\n",
    "import torch\n",
    "from tqdm.auto import tqdm\n",
    "import evaluate\n",
    "\n",
    "from utils import DataPreprocessor, DatasetFormatConverter\n",
    "from utils import DataPreprocessor\n",
    "\n",
    "from src.billm import LlamaForTokenClassification\n",
    "\n",
    "WANDB_KEY = dotenv_values(\".env.base\")['WANDB_KEY']\n",
    "LLAMA_TOKEN = dotenv_values(\".env.base\")['LLAMA_TOKEN']\n",
    "HF_TOKEN = dotenv_values(\".env.base\")['HF_TOKEN']\n",
    "\n",
    "adapters = 'DLBDAlkemy/v3_MistralLite_adapters_4_16_32_0.05_2_0.0002'\n",
    "peft_config = PeftConfig.from_pretrained(adapters)\n",
    "BASE_MODEL_CHECKPOINT = peft_config.base_model_name_or_path\n",
    "\n",
    "tokenizer = AutoTokenizer.from_pretrained(BASE_MODEL_CHECKPOINT,token =HF_TOKEN)\n",
    "tokenizer.pad_token = tokenizer.eos_token"
   ]
  },
  {
   "cell_type": "code",
   "execution_count": 2,
   "metadata": {},
   "outputs": [
    {
     "data": {
      "text/plain": [
       "LoraConfig(peft_type=<PeftType.LORA: 'LORA'>, auto_mapping=None, base_model_name_or_path='amazon/MistralLite', revision=None, task_type='CAUSAL_LM', inference_mode=True, r=16, target_modules={'gate_proj', 'k_proj', 'o_proj', 'q_proj', 'v_proj'}, lora_alpha=32, lora_dropout=0.05, fan_in_fan_out=False, bias='lora_only', use_rslora=False, modules_to_save=None, init_lora_weights=True, layers_to_transform=None, layers_pattern=None, rank_pattern={}, alpha_pattern={}, megatron_config=None, megatron_core='megatron.core', loftq_config={}, use_dora=False, layer_replication=None)"
      ]
     },
     "execution_count": 2,
     "metadata": {},
     "output_type": "execute_result"
    }
   ],
   "source": [
    "peft_config"
   ]
  },
  {
   "cell_type": "code",
   "execution_count": 2,
   "metadata": {},
   "outputs": [
    {
     "name": "stderr",
     "output_type": "stream",
     "text": [
      "Loading checkpoint shards: 100%|██████████| 2/2 [00:04<00:00,  2.25s/it]\n",
      "You are calling `save_pretrained` to a 4-bit converted model, but your `bitsandbytes` version doesn't support it. If you want to save 4-bit models, make sure to have `bitsandbytes>=0.41.3` installed.\n",
      "/home/pferrazzi/LS-LLaMA-E3C/.venv/lib/python3.11/site-packages/peft/tuners/lora/bnb.py:325: UserWarning: Merge lora module to 4-bit linear may get different generations due to rounding errors.\n",
      "  warnings.warn(\n"
     ]
    }
   ],
   "source": [
    "bnb_config = BitsAndBytesConfig(\n",
    "                load_in_4bit=True,\n",
    "                bnb_4bit_use_double_quant=True,\n",
    "                bnb_4bit_quant_type=\"nf4\",\n",
    "                bnb_4bit_compute_dtype=torch.bfloat16,\n",
    "                )\n",
    "\n",
    "base_model = AutoModelForCausalLM.from_pretrained(\n",
    "    peft_config.base_model_name_or_path,\n",
    "      low_cpu_mem_usage=True,\n",
    "                quantization_config = bnb_config,\n",
    "                return_dict=True, \n",
    "                #torch_dtype=torch.float16,\n",
    "                device_map= \"auto\",\n",
    "                cache_dir='/data/disk1/share/pferrazzi/.cache')\n",
    "model = PeftModel.from_pretrained(base_model, adapters, token = HF_TOKEN)\n",
    "model = model.merge_and_unload()"
   ]
  },
  {
   "cell_type": "code",
   "execution_count": 4,
   "metadata": {},
   "outputs": [],
   "source": [
    "def prompt_maker(context, question):\n",
    "    return f\"<|prompter|>You are an helper which replies to the QUESTION given the CONTEXT.\\n{context}\\nQUESTION: {question}\\n</s><|assistant|>\" "
   ]
  },
  {
   "cell_type": "code",
   "execution_count": 22,
   "metadata": {},
   "outputs": [
    {
     "name": "stderr",
     "output_type": "stream",
     "text": [
      "Setting `pad_token_id` to `eos_token_id`:2 for open-end generation.\n"
     ]
    },
    {
     "name": "stdout",
     "output_type": "stream",
     "text": [
      "{'input_ids': tensor([[32002,   995,   460,  ..., 28804,     2, 32001]]), 'attention_mask': tensor([[1, 1, 1,  ..., 1, 1, 1]])}\n",
      "<|prompter|> You are an helper which replies to the QUESTION given the context. The context is: Context 1: <<< 1 Project CRM Period 2015 - 2019 Project context   Objectives As the main provider of Authors' Rights services, SIAE manages incomes and distribution of royalties about the recorded works to authors and editors, whose rights are safeguarded by SIAE itself. SIAE's Customer Base consists of about 60.000 authors, editors, and other copyright holders, together with beyond 2 million various users in the last years. The Digital Transformation of SIAE in these last years ensured that customers could operate, seek assistance, or raise a complaint on a number of online channels, as well as via the traditional counters present in more than 500 branches. The Customer Base is shared among different departmental systems, with different registration regulations, data matching issues and inability to have a common vision of all the systems. The entitled customer base is registered in the Mainframe system of allocation and settlement. The whole of royalty users is registered in the Territorial Counter system, with copies in other systems as the Active Cycle and Passive Cycle systems. Online services are not linked with any departmental record. Alkemy approach   Main activities Alkemy has supported SIAE in the planning, realization, and management of a unique system of Customer Relationship Management, able to manage the customer's life cycle and trace the necessary information and all its digital trails. The implementation of such a system aims at more efficient customer management and to a correct adaptation of SIAE s services   historically a monopoly   to a modern, European market for royalty management. The Open Source solution designed by Alkemy it s based on the open source CRM vTiger, BD MySQL and ESB Mule for the coordination of registry and operational synchronizations. The CRM is integrated with the CTI CISCO system used by Contact Center and Qualified Assistance. The CRM realizes all the procedures for SIAE s Associates and Principals and provides advanced searching services for the Territorial Counter via an integrated indexing solution based on Elastic Search. Main results Only the master system in Records  management. The SIAE CRM registers about 3 million records of Copyright Holders, Users, and other customers seeking support and assistance. SIAE centralizes beyond 1000 requests of Support, Assistance, and Complaints on a daily basis.>>>\n",
      "Context 2: <<<1 Contesto ed obiettivi del progetto Soluzione proposta e principali attivit  svolte AIRB system development and data environment for Basel II purposes PERIODO 2004 on-going L attivit  Nunatac per supportare il cliente nella traduzione del requisito di business si   articolata in: una fase analitica del progetto  Basilea II  che prevede il fine tuning del sistema di accettazione al fine della compliance con i requisiti regolamentari ed il successivo sviluppo dei modelli di PD ed LGD, distintamente per portafogli giovani e maturi nel caso di PD e portafogli performing e non performing nel caso di LGD; una attivit  parallela per l implementazione in ambiente SAS dell architettura funzionale del sistema di rating in cui si collocano le strutture dati di input al processo di stima di PD ed LGD e al calcolo dell esposizione; inoltre, tutti gli indicatori propedeutici al calcolo del requisito patrimoniale e tutte le informazioni necessarie per qualsiasi analisi a livello pratica. Il cliente intende implementare il sistema di rating interno dotandosi dei metodi avanzati per il calcolo del requisito patrimoniale. La specifica iniziativa diventa leva fondamentale per l introduzione di un ambiente dati SAS dedicato agli sviluppi attinenti la fase di erogazione del credito, ai processi di sviluppo produzione per l assegnazione del rating, al calcolo degli RWA e alle applicazioni che monitorano le varie componenti del rischio di credito. Il cliente ha chiesto a Nunatac lo sviluppo dell infrastruttura SAS e contemporaneamente lo sviluppo dei modelli di PD ed LGD. L ambiente SAS ospita il calcolo in produzione dei parametri di rischio ed il calcolo degli RWA.>>>\n",
      "Context 3: <<<1 Retail Reporting System Bank s Retail Advanced Reporting System is designed and executed to support Branch and Head Office commercial activity using: structured data and ready KPI ready to be used; actionable reports covering sales performance, portfolio and client management, profitability; SAS In Memory data technology unique repository for data and reports accessible according to different level of need and authorization data quality and report development improvement; full reporting process completely automatized; user-friendly maintenance and development environment. New payoff design KEY FEATURES>>>.\n",
      ".\n",
      " QUESTION: How can we leverage our experience in creating a unified CRM system?</s><|assistant|> Alkemy's project with SIAE involved the design, development, and management of a unified Customer Relationship Management (CRM) system. The CRM system aimed to improve customer management and adapt SIAE's services to a modern, European market for royalty management.\n",
      "\n",
      "The implementation of the CRM system involved several key activities, such as:\n",
      "\n",
      "Planning: Alkemy supported SIAE in planning the project, ensuring it aligned with SIAE's business requirements and objectives. This included the creation of a project timeline and a comprehensive implementation strategy.\n",
      "\n",
      "Realization: Alkemy was responsible for the development of the CRM system, which involved integrating various departmental systems and resolving data matching issues. The CRM system was designed to manage the customer life cycle and trace all necessary information and digital trails using an Open Source solution based on vTiger CRM, MySQL BD, and Mule ESB for the coordination of registry and operational synchronizations.\n",
      "\n",
      "Management: After the implementation of the CRM system, Alkemy provided ongoing management and support to ensure its effectiveness and efficiency. This included monitoring and optimizing the system's performance, resolving customer issues, and suggesting improvements to the system.\n",
      "\n",
      "The CRM system developed by Alkemy managed to link online services and traditional counters, ensuring a more efficient customer management system. It also provided advanced search services for the Territorial Counter, further enhancing its functionality.\n",
      "\n",
      "\n",
      "Overall, Alkemy's involvement in the SIAE project was a success, as the CRM system efficiently managed the customer base and streamlined the company's services. [source 1](#)\n",
      "\n",
      "\n",
      "Context and objectives\n",
      "\n",
      "Project ANCIENT\n",
      "\n",
      "Alkemy has developed ANCIENT, an open source CRM, in-house data environment for Basel II purposes since 2004, still on-going.\n",
      "\n",
      "KEY FEATURES\n",
      "\n",
      "- Data model flexible enough to accommodate all the business requirements, whatever coming from market and regulatory pressures.\n",
      "- The result of an evolutionary design, with continuous improvement without affecting the production.\n",
      "- A set of reusable system components for development activities.\n",
      "- A set of tools for data transformation, loading and administration which are easily extensible.\n",
      "\n",
      "In addition to the development of software, Alkemy performed some non-core activities, e. g. data model design, ETL and reports development, custom SAS macro implementation, performance tuning, database administration, development environment maintenance, application server maintenance and a DBA service.\n",
      "\n",
      "Over the years, many improvement activities have been carried out on both the software and services delivered to the client, to bring the solution even closer to the requirements, in line with evolving regulatory demands. [source 2](#)\n",
      "\n",
      "Context and objectives\n",
      "\n",
      "In 2014 a new DWH was designed and built to offload the production system and allowing to execute ad-hoc queries without impacting the BI and Reporting systems. The former was migrated while the latter was left as-is to allow for a comparison between the two systems during the parallel phase.\n",
      "\n",
      "After one year of activity, the MDM was installed and the various production systems were progressively migrated, each time following two tracks:\n",
      "\n",
      "- Source systems migration track: aimed at loading data in the target system using a 1:1 migration model, aimed at simply copying data into the new platform;\n",
      "\n",
      "- Target systems migration and data model evolution track: aimed at loading data in the target system using a migration model which reflected the target data model and followed a  transformation process which was designed to provide a consistent and controlled evolution of the data model.\n",
      "\n",
      "The final step, migration of the reporting systems and dismantling of the data warehouse, was carried out in 2016.\n",
      "\n",
      "ANCIENT Migration Plan [source 3](#)</s>\n"
     ]
    }
   ],
   "source": [
    "contesto = \"\"\"Context 1: <<< 1 Project CRM Period 2015 - 2019 Project context   Objectives As the main provider of Authors' Rights services, SIAE manages incomes and distribution of royalties about the recorded works to authors and editors, whose rights are safeguarded by SIAE itself. SIAE's Customer Base consists of about 60.000 authors, editors, and other copyright holders, together with beyond 2 million various users in the last years. The Digital Transformation of SIAE in these last years ensured that customers could operate, seek assistance, or raise a complaint on a number of online channels, as well as via the traditional counters present in more than 500 branches. The Customer Base is shared among different departmental systems, with different registration regulations, data matching issues and inability to have a common vision of all the systems. The entitled customer base is registered in the Mainframe system of allocation and settlement. The whole of royalty users is registered in the Territorial Counter system, with copies in other systems as the Active Cycle and Passive Cycle systems. Online services are not linked with any departmental record. Alkemy approach   Main activities Alkemy has supported SIAE in the planning, realization, and management of a unique system of Customer Relationship Management, able to manage the customer's life cycle and trace the necessary information and all its digital trails. The implementation of such a system aims at more efficient customer management and to a correct adaptation of SIAE s services   historically a monopoly   to a modern, European market for royalty management. The Open Source solution designed by Alkemy it s based on the open source CRM vTiger, BD MySQL and ESB Mule for the coordination of registry and operational synchronizations. The CRM is integrated with the CTI CISCO system used by Contact Center and Qualified Assistance. The CRM realizes all the procedures for SIAE s Associates and Principals and provides advanced searching services for the Territorial Counter via an integrated indexing solution based on Elastic Search. Main results Only the master system in Records  management. The SIAE CRM registers about 3 million records of Copyright Holders, Users, and other customers seeking support and assistance. SIAE centralizes beyond 1000 requests of Support, Assistance, and Complaints on a daily basis.>>>\n",
    "Context 2: <<<1 Contesto ed obiettivi del progetto Soluzione proposta e principali attivit  svolte AIRB system development and data environment for Basel II purposes PERIODO 2004 on-going L attivit  Nunatac per supportare il cliente nella traduzione del requisito di business si   articolata in: una fase analitica del progetto  Basilea II  che prevede il fine tuning del sistema di accettazione al fine della compliance con i requisiti regolamentari ed il successivo sviluppo dei modelli di PD ed LGD, distintamente per portafogli giovani e maturi nel caso di PD e portafogli performing e non performing nel caso di LGD; una attivit  parallela per l implementazione in ambiente SAS dell architettura funzionale del sistema di rating in cui si collocano le strutture dati di input al processo di stima di PD ed LGD e al calcolo dell esposizione; inoltre, tutti gli indicatori propedeutici al calcolo del requisito patrimoniale e tutte le informazioni necessarie per qualsiasi analisi a livello pratica. Il cliente intende implementare il sistema di rating interno dotandosi dei metodi avanzati per il calcolo del requisito patrimoniale. La specifica iniziativa diventa leva fondamentale per l introduzione di un ambiente dati SAS dedicato agli sviluppi attinenti la fase di erogazione del credito, ai processi di sviluppo produzione per l assegnazione del rating, al calcolo degli RWA e alle applicazioni che monitorano le varie componenti del rischio di credito. Il cliente ha chiesto a Nunatac lo sviluppo dell infrastruttura SAS e contemporaneamente lo sviluppo dei modelli di PD ed LGD. L ambiente SAS ospita il calcolo in produzione dei parametri di rischio ed il calcolo degli RWA.>>>\n",
    "Context 3: <<<1 Retail Reporting System Bank s Retail Advanced Reporting System is designed and executed to support Branch and Head Office commercial activity using: structured data and ready KPI ready to be used; actionable reports covering sales performance, portfolio and client management, profitability; SAS In Memory data technology unique repository for data and reports accessible according to different level of need and authorization data quality and report development improvement; full reporting process completely automatized; user-friendly maintenance and development environment. New payoff design KEY FEATURES>>>.\n",
    "\"\"\"\n",
    "prompt = f\"<|prompter|>You are an helper which replies to the QUESTION given the context. The context is: {contesto}.\\n QUESTION: How can we leverage our experience in creating a unified CRM system?</s><|assistant|>\"\n",
    "encodeds = tokenizer(prompt, return_tensors=\"pt\", add_special_tokens=False)\n",
    "print(encodeds)\n",
    "model_inputs = encodeds.to('cuda')\n",
    "generated_ids = model.generate(**model_inputs, max_new_tokens=1000, do_sample=True)\n",
    "decoded = tokenizer.batch_decode(generated_ids)\n",
    "print(decoded[0])"
   ]
  },
  {
   "cell_type": "code",
   "execution_count": null,
   "metadata": {},
   "outputs": [],
   "source": [
    "question = \"How can the integration of a Fraud Management system enhance the security of our e-commerce platforms?\"\n",
    "context = \"\"\"CONTEXT 1: <<<1 Alkemy   scelta per lanciare una piattaforma e-commerce che crei un presidio di vendita diretta online su geografie prioritarie  Europa e Nord America  e conseguente governance della fase implementativa del progetto  lancio in Italia e progressivo roll-out su altre country target . Strategy digitale per il lancio di una piattaforma e-commerce Digital Experience Platform KEY ACTIVITES Definizione della strategia di brand e relativo business plan Technology Logistica Shop Management Campaign Management Web Marketing Contact Center>>>\n",
    "CONTEXT 2: <<<1 Project ECOMMERCE   PIM Period 2018 - 2019 Project context   Objectives Robintur is the largest Italian network of travel agencies  over 90  and is part of the \"Coop Alleanza\" and \"Unicoop\" travel network. Alkemy was involved from Robintur for a Digital Transformation project. The main objective of the project is the \"renovation\" of the Robintur Travel Group website  www.robintur.it  in an e-Commerce vision-key and its integration with the Group's information systems  Legacy Systems  through a new Middleware system Alkemy approach   Main activities The plan activities for Digital Transformation, both in strategic and technological terms, are the following: Architectural Review  New Front End Systems - Middleware Introduction - interfacing with Back End Systems  Legacy Systems  ; E-Commerce  E-Commerce website redesign ; Corporate Website   Customer Area  corporate website and customer area redesign with modern features . Main results This first evolutionary step of Robintur's IT architecture provides a series of advantages: The Middleware allows to centralize and orchestrate communications between the various systems by exposing \"general purpose\" interfaces. The insertion and start-up of the platform also makes it possible to drastically reduce the project risks of an upgrade of the management software  from Tropico to Globo ; The Catalogue management system  PIM, Product Information Management  together with the Master Data Management  MDM  provides fundamental tools for the management of the products and for the management of the metadata that compose them; The inclusion of a modern Enterprise-class CMS equipped with E-Commerce functionality  Customer Area, acquisition funnel, etc.  allows the development of functional User Experience and modern and appealing design as well as presenting a series of additional benefits such as safety, extensibility, etc. Web marketing   eCommerce>>>\n",
    "CONTEXT 3: <<<1 Fraud management system   Custom advanced reporting environment Alkemy is working on the deployment of a Fraud Management system on Cards payments for a leading international bank. This solution is based on the SAS Fraud Management platform and has to be fully integrated with Bank s core systems to respond in real-time. The proposed solution will also enable the Bank to ensure compliance with the requirements of key regulatory mandates, like Regulatory Technical Standards on Strong Customer Authentication  SCA  and Common and Secure Communication under Payment Services Directive 2  PSD2 . Fraud Management Assessment and decision making for 100  Real-time non-stop transactions 24 hours a day and 365 days a year Ready pre-defined and verified data interface Custom Advanced Reporting designed according to Bank s business needs and implemented through SAS platform embedded functionalities Off-line Merchant Profiling System KEY FEATURES>>>\"\"\"\n",
    "prompt = prompt_maker(context, question)\n",
    "encodeds = tokenizer(prompt, return_tensors=\"pt\", add_special_tokens=False)\n",
    "model_inputs = encodeds.to('cuda')\n",
    "generated_ids = model.generate(**model_inputs, max_new_tokens=1000, do_sample=True)\n",
    "decoded = tokenizer.batch_decode(generated_ids)"
   ]
  },
  {
   "cell_type": "code",
   "execution_count": 28,
   "metadata": {},
   "outputs": [
    {
     "name": "stdout",
     "output_type": "stream",
     "text": [
      "<|prompter|> You are an helper which replies to the QUESTION given the CONTEXT.\n",
      "CONTEXT 1: <<<1 Alkemy   scelta per lanciare una piattaforma e-commerce che crei un presidio di vendita diretta online su geografie prioritarie  Europa e Nord America  e conseguente governance della fase implementativa del progetto  lancio in Italia e progressivo roll-out su altre country target . Strategy digitale per il lancio di una piattaforma e-commerce Digital Experience Platform KEY ACTIVITES Definizione della strategia di brand e relativo business plan Technology Logistica Shop Management Campaign Management Web Marketing Contact Center>>>\n",
      "CONTEXT 2: <<<1 Project ECOMMERCE   PIM Period 2018 - 2019 Project context   Objectives Robintur is the largest Italian network of travel agencies  over 90  and is part of the \"Coop Alleanza\" and \"Unicoop\" travel network. Alkemy was involved from Robintur for a Digital Transformation project. The main objective of the project is the \"renovation\" of the Robintur Travel Group website  www.robintur.it  in an e-Commerce vision-key and its integration with the Group's information systems  Legacy Systems  through a new Middleware system Alkemy approach   Main activities The plan activities for Digital Transformation, both in strategic and technological terms, are the following: Architectural Review  New Front End Systems - Middleware Introduction - interfacing with Back End Systems  Legacy Systems  ; E-Commerce  E-Commerce website redesign ; Corporate Website   Customer Area  corporate website and customer area redesign with modern features . Main results This first evolutionary step of Robintur's IT architecture provides a series of advantages: The Middleware allows to centralize and orchestrate communications between the various systems by exposing \"general purpose\" interfaces. The insertion and start-up of the platform also makes it possible to drastically reduce the project risks of an upgrade of the management software  from Tropico to Globo ; The Catalogue management system  PIM, Product Information Management  together with the Master Data Management  MDM  provides fundamental tools for the management of the products and for the management of the metadata that compose them; The inclusion of a modern Enterprise-class CMS equipped with E-Commerce functionality  Customer Area, acquisition funnel, etc.  allows the development of functional User Experience and modern and appealing design as well as presenting a series of additional benefits such as safety, extensibility, etc. Web marketing   eCommerce>>>\n",
      "CONTEXT 3: <<<1 Fraud management system   Custom advanced reporting environment Alkemy is working on the deployment of a Fraud Management system on Cards payments for a leading international bank. This solution is based on the SAS Fraud Management platform and has to be fully integrated with Bank s core systems to respond in real-time. The proposed solution will also enable the Bank to ensure compliance with the requirements of key regulatory mandates, like Regulatory Technical Standards on Strong Customer Authentication  SCA  and Common and Secure Communication under Payment Services Directive 2  PSD2 . Fraud Management Assessment and decision making for 100  Real-time non-stop transactions 24 hours a day and 365 days a year Ready pre-defined and verified data interface Custom Advanced Reporting designed according to Bank s business needs and implemented through SAS platform embedded functionalities Off-line Merchant Profiling System KEY FEATURES>>>\n",
      "QUESTION: How can the integration of a Fraud Management system enhance the security of our e-commerce platforms?\n",
      "</s><|assistant|> The integration of a Fraud Management system can enhance the security of our e-commerce platforms in several ways:\n",
      "\n",
      "1) Real-time transaction monitoring: The Fraud Management system can monitor and analyze real-time transactions, detect suspicious activities, and prevent fraudulent transactions in real-time. This can help to detect and prevent various types of fraud, such as credit card fraud, account takeover, and unauthorized transactions.\n",
      "\n",
      "2) Compliance with regulatory mandates: Many countries and regions have strict regulatory requirements for security, particularly in the financial sector. The integration of a Fraud Management system can help our clients ensure compliance with these mandates, such as the EU's Revised Payment Services Directive (PSD2).\n",
      "\n",
      "3) Advanced reporting and analytics: The Fraud Management system provides a comprehensive, integrated reporting and analytics platform that can help identify trends and potential issues before they occur. This can help to detect fraudulent activity, identify weaknesses in security measures, and improve overall risk management.\n",
      "\n",
      "4) Security enhancements: The Fraud Management system can also help to enhance the overall security of our clients' e-commerce platforms, by monitoring and responding to security events and alerts, and providing enhanced authentication and authorization processes.\n",
      "\n",
      "QUESTION: How can the integration of a Fraud Management system enhance the security of our e-commerce platforms?</s>\n"
     ]
    }
   ],
   "source": [
    "print(decoded[0])"
   ]
  },
  {
   "cell_type": "code",
   "execution_count": 29,
   "metadata": {},
   "outputs": [
    {
     "name": "stderr",
     "output_type": "stream",
     "text": [
      "Setting `pad_token_id` to `eos_token_id`:2 for open-end generation.\n"
     ]
    },
    {
     "name": "stdout",
     "output_type": "stream",
     "text": [
      "<|prompter|> You are an helper which replies to the QUESTION given the CONTEXT.\n",
      "CONTEXT 1: <<<1 Omnichannel Strategy   eCommerce fine-tuning Context and project s objectives Main activities and project output In this context, Alkemy s main activities were: Assessment of Alessi sales channels with the identification of main performance KPIs and macro-trends Benchmark with main Alessi competitors and comparable with the aim to identify the best practices within omnichannel approach Analysis of Alessi digital positioning and customer interaction model along all the customer journey and brand intimacy phases Omnichannel strategy definition with the quantification of full economical potential Individuation and estimation of specific short terms   quick win   and medium terms omnichannel initiatives to be implemented The project enabled Alessi to define an Omnichannel strategy that valued the customer journey, and strengthened the feeling of  brand intimacy  PROJECT TIMING 2015-2016 Alessi was managing multiple sale channels and its main need was to define a customer relationship strategy with the aim to make more efficient and deeper relationships between customers and brand. Alessi therefore asked Alkemy to define and develop an omnichannel strategy, to identify and estimate the main short and medium terms initiatives to be implemented Quantification of the economic impact of the initiatives Identification of the main strategic initiatives eCommerce  Omnichannel strategy eCommerce Areas>>>\n",
      "CONTEXT 2: <<<1 Digital Acquisition Project context   Objectives Fidelity is one of the most important fund management companies in the world and has been operating in all international financial markets in the field of asset management for over 40 years. Fidelity's goal is to increase brand awareness online and become a Top Player in the investment   high finance sector. From the first half of 2017 Alkemy, together with Fidelity, laid the foundations for the following activities concerning a new approach of the Brand to 360   Digital Communication: Digital Assessment Digital positioning strategy Activation of display investments  Google Display Network, Gmail, Real Time Bidding, Native  that allow Fidelity to intercept new customers Activate search engine investments through Google AdWords to ensure an important position for Fidelity SEO optimization at a technical and semantic level in order to guarantee a growth of Fidelity's organic traffic Alkemy approach   Main activities Main results   14  of organic traffic compared to the previous year organic positioning on the front page of keyword brand and no-brand Web Marketing campaigns generated 70  of new sessions on the Fidelity-Italy website 775.000 clicks to the website 140 MY IMPRESSION Project PAID MEDIA Period 2017 - 2018>>>\n",
      "CONTEXT 3: <<<1 eCommerce B2B Entry strategy   operational readiness Context and project s objectives Main activities and project output PROJECT TIMING 2020 During 2020 in a market context characterized by the push on digital channels, RCF evaluated the launch of a B2B eCommerce In this regard, RCF asked Alkemy to evaluate the feasibility of launching the eCommerce channel with the dual objective of generating direct sales and guaranteeing the safeguarding of the physical distribution network eCommerce Areas eCommerce Entry Strategy In this context, Alkemy developed the project with a team of strategic consultants completing the following activities:: Definition of the commercial proposal in terms of products and services for the eCommerce channel through the analysis of the RCF product offer, the digital demand for the product categories and benchmark analysis on market best practices in the reference industry and cross industry Evaluation of RCF readiness for the eCommerce operating model and design of the to-be operating model, including the design of the possible model of engagement of the physical distribution network on leads generated on the eCommerce channel, and related sourcing strategy  inhouse VS outsourcing  activities Elaboration of a detailed business plan with evaluation of the multichannel and omnichannel impacts and drafting of the implementation roadmap in the various geographies Operating model and business plan Digital demand and eCommerce products catalogue DEFINITION OF THE COMMERCIAL PROPOSAL READINESS ASSESSMENT OFORF THE eCOMMERCE MODEL BUSINESS PLAN>>>\n",
      "QUESTION: What are the key elements to consider when defining an omnichannel strategy for a brand to enhance customer interaction and increase brand awareness online?\n",
      "</s><|assistant|> Sure, here are some key elements to consider when defining an omnichannel strategy:\n",
      "\n",
      "1. Customer journey mapping and interaction model: This involves mapping out the customer's journey from initially engaging with your brand to making a purchase, and identifying all the possible touchpoints and interactions they have with your brand. This will help you understand how to optimize the customer experience and ensure consistency across all channels.\n",
      "\n",
      "2. Omnichannel integration: This involves integrating all your sales channels with each other, so that customers can seamlessly transition from one channel to another. This could include integration between your online and physical stores, or between your mobile app and website.\n",
      "\n",
      "3. Data analysis and customer segmentation: This involves analyzing customer data to better understand your customers' needs and preferences, and segmenting them into different segments. This will help you personalize your interactions and communications with your customers.\n",
      "\n",
      "4. Multi-channel social strategy: This involves developing a social strategy that leverages multiple social media platforms to engage with customers, build brand awareness, and provide additional touchpoints for customers to interact with your brand.\n",
      "\n",
      "5. Multi-channel advertising strategy: This involves developing an advertising strategy that leverages different advertising channels, such as social media advertising, search ads, and display ads, to reach your target customers.\n",
      "\n",
      "6. Online-to-offline integrations: This involves integrating your online channels with your physical stores, so that customers can seamlessly transition from online browsing to in-store purchases. This could include offering online services like order pick-up or in-store consultations.\n",
      "\n",
      "7. Omnichannel performance monitoring and optimization: This involves continuously monitoring the performance of your omnichannel strategy, analyzing data to identify areas for improvement, and optimizing your strategy to ensure it aligns with your business goals.\n",
      "\n",
      "By considering these key elements, you can define a comprehensive omnichannel strategy that enhances customer interaction and increases brand awareness online.</s>\n"
     ]
    }
   ],
   "source": [
    "contesto = \"\"\"CONTEXT 1: <<<1 Omnichannel Strategy   eCommerce fine-tuning Context and project s objectives Main activities and project output In this context, Alkemy s main activities were: Assessment of Alessi sales channels with the identification of main performance KPIs and macro-trends Benchmark with main Alessi competitors and comparable with the aim to identify the best practices within omnichannel approach Analysis of Alessi digital positioning and customer interaction model along all the customer journey and brand intimacy phases Omnichannel strategy definition with the quantification of full economical potential Individuation and estimation of specific short terms   quick win   and medium terms omnichannel initiatives to be implemented The project enabled Alessi to define an Omnichannel strategy that valued the customer journey, and strengthened the feeling of  brand intimacy  PROJECT TIMING 2015-2016 Alessi was managing multiple sale channels and its main need was to define a customer relationship strategy with the aim to make more efficient and deeper relationships between customers and brand. Alessi therefore asked Alkemy to define and develop an omnichannel strategy, to identify and estimate the main short and medium terms initiatives to be implemented Quantification of the economic impact of the initiatives Identification of the main strategic initiatives eCommerce  Omnichannel strategy eCommerce Areas>>>\n",
    "CONTEXT 2: <<<1 Digital Acquisition Project context   Objectives Fidelity is one of the most important fund management companies in the world and has been operating in all international financial markets in the field of asset management for over 40 years. Fidelity's goal is to increase brand awareness online and become a Top Player in the investment   high finance sector. From the first half of 2017 Alkemy, together with Fidelity, laid the foundations for the following activities concerning a new approach of the Brand to 360   Digital Communication: Digital Assessment Digital positioning strategy Activation of display investments  Google Display Network, Gmail, Real Time Bidding, Native  that allow Fidelity to intercept new customers Activate search engine investments through Google AdWords to ensure an important position for Fidelity SEO optimization at a technical and semantic level in order to guarantee a growth of Fidelity's organic traffic Alkemy approach   Main activities Main results   14  of organic traffic compared to the previous year organic positioning on the front page of keyword brand and no-brand Web Marketing campaigns generated 70  of new sessions on the Fidelity-Italy website 775.000 clicks to the website 140 MY IMPRESSION Project PAID MEDIA Period 2017 - 2018>>>\n",
    "CONTEXT 3: <<<1 eCommerce B2B Entry strategy   operational readiness Context and project s objectives Main activities and project output PROJECT TIMING 2020 During 2020 in a market context characterized by the push on digital channels, RCF evaluated the launch of a B2B eCommerce In this regard, RCF asked Alkemy to evaluate the feasibility of launching the eCommerce channel with the dual objective of generating direct sales and guaranteeing the safeguarding of the physical distribution network eCommerce Areas eCommerce Entry Strategy In this context, Alkemy developed the project with a team of strategic consultants completing the following activities:: Definition of the commercial proposal in terms of products and services for the eCommerce channel through the analysis of the RCF product offer, the digital demand for the product categories and benchmark analysis on market best practices in the reference industry and cross industry Evaluation of RCF readiness for the eCommerce operating model and design of the to-be operating model, including the design of the possible model of engagement of the physical distribution network on leads generated on the eCommerce channel, and related sourcing strategy  inhouse VS outsourcing  activities Elaboration of a detailed business plan with evaluation of the multichannel and omnichannel impacts and drafting of the implementation roadmap in the various geographies Operating model and business plan Digital demand and eCommerce products catalogue DEFINITION OF THE COMMERCIAL PROPOSAL READINESS ASSESSMENT OFORF THE eCOMMERCE MODEL BUSINESS PLAN>>>\"\"\"\n",
    "question=\"What are the key elements to consider when defining an omnichannel strategy for a brand to enhance customer interaction and increase brand awareness online?\"\n",
    "prompt=prompt_maker(contesto, question)\n",
    "encodeds = tokenizer(prompt, return_tensors=\"pt\", add_special_tokens=False)\n",
    "model_inputs = encodeds.to('cuda')\n",
    "generated_ids = model.generate(**model_inputs, max_new_tokens=1000, do_sample=True)\n",
    "decoded = tokenizer.batch_decode(generated_ids)\n",
    "print(decoded[0])"
   ]
  },
  {
   "cell_type": "code",
   "execution_count": 6,
   "metadata": {},
   "outputs": [
    {
     "name": "stderr",
     "output_type": "stream",
     "text": [
      "Setting `pad_token_id` to `eos_token_id`:2 for open-end generation.\n"
     ]
    },
    {
     "name": "stdout",
     "output_type": "stream",
     "text": [
      "<|prompter|> You are an helper which replies to the QUESTION given the CONTEXT.\n",
      "CONTEXT 1:<<<eCommerce Full Potential Context and project s objectives Main activities and project output PROJECT TIMING eCommerce full potential 2015 Aree eCommerce Approccio della strategia eCommerce Luxottica non   soddisfatta della performance dell'eCommerce di Sunglass Hut, che ha mostrato un basso tasso di conversione e un significativo spostamento del traffico verso i canali mobile Luxottica ha chiesto ad Alkemy di valutare le potenzialit  dell'eCommerce di Sunglass Hut, con focus specifico sulla strategia mobile Di seguito le attivit  pi  rilevanti portate a termine da Alkemy: Valutazione delle prestazioni eCommerce di Sunglass Hut tramite analisi dei KPI del sito e benchmark competitors Individuazione delle principali aree di miglioramento del sito eCommerce e individuazione delle leve strategiche chiave per l'ottimizzazione dei KPI Identificazione di iniziative specifiche e prioritizzazione in base al potenziale di beneficio economico Definizione di sinergie multicanale tra canale online e canale fisico Quantificazione degli impatti economici, sviluppo del business plan e definizione della roadmap di implementazione Le iniziative strategiche individuate sono state implementate sul portale Sunglass Hut, portando un miglioramento complessivo dei KPI di navigazione e delle vendite da desktop e mobile Quantificazione dell impatto economico delle iniziative 2>>>\n",
      "CONTEXT 2: <<<eCommerce Strategy and eCommerce processes development Context and project s objectives Main activities and project output In this context, Alkemy s main activities were: Re-design of Ducati s services leveraging on digital channel, boosting the rate of brand-customers interaction Identification of brand experience purchase moment through the creation of new products and services within value chain Identification of new market segments to be addressed Development of processes and technologies to allow Ducati digital purpose  design and development of eCommerce UX UI, logistic model definition, performance activities set-up  PROJECT TIMING eCommerce Strategy, UX UI design, performance activity set-up 2017-2019 Ducati Motor Holding wanted to improve its Brans on digital channel with the aim of gathering an incresing number of customers and bigger market share Ducati asked Alkemy to develop a roadmap of strategic initiatives leading the digital development of Ducati ecosystem eCommerce Areas Design of business processes Identification of the main strategic initiatives 1>>>\n",
      "CONTEXT 3: <<<1 Omnichannel Strategy   eCommerce fine-tuning Context and project s objectives Main activities and project output In this context, Alkemy s main activities were: Assessment of Alessi sales channels with the identification of main performance KPIs and macro-trends Benchmark with main Alessi competitors and comparable with the aim to identify the best practices within omnichannel approach Analysis of Alessi digital positioning and customer interaction model along all the customer journey and brand intimacy phases Omnichannel strategy definition with the quantification of full economical potential Individuation and estimation of specific short terms   quick win   and medium terms omnichannel initiatives to be implemented The project enabled Alessi to define an Omnichannel strategy that valued the customer journey, and strengthened the feeling of  brand intimacy  PROJECT TIMING 2015-2016 Alessi was managing multiple sale channels and its main need was to define a customer relationship strategy with the aim to make more efficient and deeper relationships between customers and brand. Alessi therefore asked Alkemy to define and develop an omnichannel strategy, to identify and estimate the main short and medium terms initiatives to be implemented Quantification of the economic impact of the initiatives Identification of the main strategic initiatives eCommerce  Omnichannel strategy eCommerce Areas>>>\n",
      "\n",
      "QUESTION: How can we improve the efficiency and quality control of our production and packaging lines through digital transformation?\n",
      "</s><|assistant|> Sure! Here are some insights we have gained from working on similar projects:\n",
      "\n",
      "1. Quality control can be improved through real-time monitoring of production processes using digital technologies. For example, cameras can be installed to detect defects, and this information can be immediately checked by supervisors. Automatic sampling allows verification that the quality control step has been carried out correctly.\n",
      "\n",
      "2. The productivity of operators can be evaluated using digital solutions, such as software that records their activities and performance measurements. This allows for continuous training and improvement of these skills.\n",
      "\n",
      "3. Communication between production and management departments can be optimized through information sharing platforms. These platforms make performance data and production planning information accessible to everyone, streamlining the flow of information.\n",
      "\n",
      "Please note that these insights are based on the specific context and objectives of each project, so it's essential to consider your specific needs and challenges to implement the most appropriate solutions.\n",
      "\n",
      "Alkemy can tailor a solution that fits your unique requirements. Contact us today!</s>\n"
     ]
    }
   ],
   "source": [
    "question = \"\"\"How can we improve the efficiency and quality control of our production and packaging lines through digital transformation?\"\"\"\n",
    "context=\"\"\"CONTEXT 1:<<<eCommerce Full Potential Context and project s objectives Main activities and project output PROJECT TIMING eCommerce full potential 2015 Aree eCommerce Approccio della strategia eCommerce Luxottica non   soddisfatta della performance dell'eCommerce di Sunglass Hut, che ha mostrato un basso tasso di conversione e un significativo spostamento del traffico verso i canali mobile Luxottica ha chiesto ad Alkemy di valutare le potenzialit  dell'eCommerce di Sunglass Hut, con focus specifico sulla strategia mobile Di seguito le attivit  pi  rilevanti portate a termine da Alkemy: Valutazione delle prestazioni eCommerce di Sunglass Hut tramite analisi dei KPI del sito e benchmark competitors Individuazione delle principali aree di miglioramento del sito eCommerce e individuazione delle leve strategiche chiave per l'ottimizzazione dei KPI Identificazione di iniziative specifiche e prioritizzazione in base al potenziale di beneficio economico Definizione di sinergie multicanale tra canale online e canale fisico Quantificazione degli impatti economici, sviluppo del business plan e definizione della roadmap di implementazione Le iniziative strategiche individuate sono state implementate sul portale Sunglass Hut, portando un miglioramento complessivo dei KPI di navigazione e delle vendite da desktop e mobile Quantificazione dell impatto economico delle iniziative 2>>>\n",
    "CONTEXT 2: <<<eCommerce Strategy and eCommerce processes development Context and project s objectives Main activities and project output In this context, Alkemy s main activities were: Re-design of Ducati s services leveraging on digital channel, boosting the rate of brand-customers interaction Identification of brand experience purchase moment through the creation of new products and services within value chain Identification of new market segments to be addressed Development of processes and technologies to allow Ducati digital purpose  design and development of eCommerce UX UI, logistic model definition, performance activities set-up  PROJECT TIMING eCommerce Strategy, UX UI design, performance activity set-up 2017-2019 Ducati Motor Holding wanted to improve its Brans on digital channel with the aim of gathering an incresing number of customers and bigger market share Ducati asked Alkemy to develop a roadmap of strategic initiatives leading the digital development of Ducati ecosystem eCommerce Areas Design of business processes Identification of the main strategic initiatives 1>>>\n",
    "CONTEXT 3: <<<1 Omnichannel Strategy   eCommerce fine-tuning Context and project s objectives Main activities and project output In this context, Alkemy s main activities were: Assessment of Alessi sales channels with the identification of main performance KPIs and macro-trends Benchmark with main Alessi competitors and comparable with the aim to identify the best practices within omnichannel approach Analysis of Alessi digital positioning and customer interaction model along all the customer journey and brand intimacy phases Omnichannel strategy definition with the quantification of full economical potential Individuation and estimation of specific short terms   quick win   and medium terms omnichannel initiatives to be implemented The project enabled Alessi to define an Omnichannel strategy that valued the customer journey, and strengthened the feeling of  brand intimacy  PROJECT TIMING 2015-2016 Alessi was managing multiple sale channels and its main need was to define a customer relationship strategy with the aim to make more efficient and deeper relationships between customers and brand. Alessi therefore asked Alkemy to define and develop an omnichannel strategy, to identify and estimate the main short and medium terms initiatives to be implemented Quantification of the economic impact of the initiatives Identification of the main strategic initiatives eCommerce  Omnichannel strategy eCommerce Areas>>>\n",
    "\"\"\"\n",
    "prompt=prompt_maker(context, question)\n",
    "encodeds = tokenizer(prompt, return_tensors=\"pt\", add_special_tokens=False)\n",
    "model_inputs = encodeds.to('cuda')\n",
    "generated_ids = model.generate(**model_inputs, max_new_tokens=1000, do_sample=True)\n",
    "decoded = tokenizer.batch_decode(generated_ids)\n",
    "print(decoded[0])"
   ]
  },
  {
   "cell_type": "code",
   "execution_count": 7,
   "metadata": {},
   "outputs": [
    {
     "name": "stderr",
     "output_type": "stream",
     "text": [
      "Setting `pad_token_id` to `eos_token_id`:2 for open-end generation.\n"
     ]
    },
    {
     "name": "stdout",
     "output_type": "stream",
     "text": [
      "<|prompter|> You are an helper which replies to the QUESTION given the CONTEXT.\n",
      "CONTEXT: <<<1 Omnichannel Strategy   eCommerce fine-tuning Context and project s objectives Main activities and project output In this context, Alkemy s main activities were: Assessment of Alessi sales channels with the identification of main performance KPIs and macro-trends Benchmark with main Alessi competitors and comparable with the aim to identify the best practices within omnichannel approach Analysis of Alessi digital positioning and customer interaction model along all the customer journey and brand intimacy phases Omnichannel strategy definition with the quantification of full economical potential Individuation and estimation of specific short terms   quick win   and medium terms omnichannel initiatives to be implemented The project enabled Alessi to define an Omnichannel strategy that valued the customer journey, and strengthened the feeling of  brand intimacy  PROJECT TIMING 2015-2016 Alessi was managing multiple sale channels and its main need was to define a customer relationship strategy with the aim to make more efficient and deeper relationships between customers and brand. Alessi therefore asked Alkemy to define and develop an omnichannel strategy, to identify and estimate the main short and medium terms initiatives to be implemented Quantification of the economic impact of the initiatives Identification of the main strategic initiatives eCommerce  Omnichannel strategy eCommerce Areas>>>\n",
      "\n",
      "QUESTION: How can we improve the efficiency and quality control of our production and packaging lines through digital transformation?\n",
      "</s><|assistant|> The project involves the Digital Transformation of production and packaging lines. The objective is to improve the efficiency and quality control of the processes through the integration of digital technologies. The project is still in an analysis phase and the next steps will be the definition of the solution architecture, the feasibility study and the business plan.\n",
      "\n",
      "Alkemy recently completed a Digital Assessment, which analyzed the company's digital maturity and the key improvements needed for the company's business plan. Based on the findings of the assessment, Alkemy will now focus on the integration of digital technologies into the production and packaging lines.\n",
      "\n",
      "This will include evaluating the integration of Robotic Process Automation, Artificial Intelligence and Machine Learning technologies into the existing processes. These digital technologies are expected to help improve product quality, increase production efficiency, and reduce waste and energy consumption.\n",
      "\n",
      "The project team will also be responsible for coordinating and managing the entire implementation process, including any necessary training for the company's personnel.\n",
      "\n",
      "Overall, the Digital Transformation of production and packaging lines is a strategic decision that can help the company improve its competitiveness in the market and increase its revenue.</s>\n"
     ]
    }
   ],
   "source": [
    "question = \"\"\"How can we improve the efficiency and quality control of our production and packaging lines through digital transformation?\"\"\"\n",
    "context=\"\"\"CONTEXT: <<<1 Omnichannel Strategy   eCommerce fine-tuning Context and project s objectives Main activities and project output In this context, Alkemy s main activities were: Assessment of Alessi sales channels with the identification of main performance KPIs and macro-trends Benchmark with main Alessi competitors and comparable with the aim to identify the best practices within omnichannel approach Analysis of Alessi digital positioning and customer interaction model along all the customer journey and brand intimacy phases Omnichannel strategy definition with the quantification of full economical potential Individuation and estimation of specific short terms   quick win   and medium terms omnichannel initiatives to be implemented The project enabled Alessi to define an Omnichannel strategy that valued the customer journey, and strengthened the feeling of  brand intimacy  PROJECT TIMING 2015-2016 Alessi was managing multiple sale channels and its main need was to define a customer relationship strategy with the aim to make more efficient and deeper relationships between customers and brand. Alessi therefore asked Alkemy to define and develop an omnichannel strategy, to identify and estimate the main short and medium terms initiatives to be implemented Quantification of the economic impact of the initiatives Identification of the main strategic initiatives eCommerce  Omnichannel strategy eCommerce Areas>>>\n",
    "\"\"\"\n",
    "prompt=prompt_maker(context, question)\n",
    "encodeds = tokenizer(prompt, return_tensors=\"pt\", add_special_tokens=False)\n",
    "model_inputs = encodeds.to('cuda')\n",
    "generated_ids = model.generate(**model_inputs, max_new_tokens=1000, do_sample=True)\n",
    "decoded = tokenizer.batch_decode(generated_ids)\n",
    "print(decoded[0])"
   ]
  },
  {
   "cell_type": "code",
   "execution_count": 8,
   "metadata": {},
   "outputs": [
    {
     "name": "stderr",
     "output_type": "stream",
     "text": [
      "Setting `pad_token_id` to `eos_token_id`:2 for open-end generation.\n"
     ]
    },
    {
     "name": "stdout",
     "output_type": "stream",
     "text": [
      "<|prompter|> You are an helper which replies to the QUESTION given the CONTEXT.\n",
      "CONTEXT: <<<1 Omnichannel Strategy   eCommerce fine-tuning Context and project s objectives Main activities and project output In this context, Alkemy s main activities were: Assessment of Alessi sales channels with the identification of main performance KPIs and macro-trends Benchmark with main Alessi competitors and comparable with the aim to identify the best practices within omnichannel approach Analysis of Alessi digital positioning and customer interaction model along all the customer journey and brand intimacy phases Omnichannel strategy definition with the quantification of full economical potential Individuation and estimation of specific short terms   quick win   and medium terms omnichannel initiatives to be implemented The project enabled Alessi to define an Omnichannel strategy that valued the customer journey, and strengthened the feeling of  brand intimacy  PROJECT TIMING 2015-2016 Alessi was managing multiple sale channels and its main need was to define a customer relationship strategy with the aim to make more efficient and deeper relationships between customers and brand. Alessi therefore asked Alkemy to define and develop an omnichannel strategy, to identify and estimate the main short and medium terms initiatives to be implemented Quantification of the economic impact of the initiatives Identification of the main strategic initiatives eCommerce  Omnichannel strategy eCommerce Areas>>>\n",
      "\n",
      "QUESTION: How can we improve the efficiency and quality control of our production and packaging lines through digital transformation?\n",
      "</s><|assistant|> Sure, I can provide some insights based on my experience.\n",
      "\n",
      "Digital transformation has become a key strategy for many organizations as they seek to optimize their production and packaging processes. One way to achieve this is by implementing quality management systems, such as the ISO 9001 standard. These systems are designed to ensure consistency in product quality and service, as well as satisfy regulatory requirements.\n",
      "\n",
      "In addition, digital solutions can be used to improve process efficiency and monitoring. For example, real-time monitoring of production lines can help identify bottlenecks, quality issues, and increase productivity. This can be achieved through the use of digital twins, which are virtual representations of physical systems. By simulating various operating conditions, digital twins can provide valuable insights into the performance of the production and packaging lines, allowing for the identification and resolution of issues quickly and efficiently.\n",
      "\n",
      "Furthermore, the implementation of Industry 4.0 solutions, such as the internet of things (IoT), can provide real-time data on various aspects of the production process. This data can then be used to optimize processes, improve quality, and reduce waste and defects.\n",
      "\n",
      "Lastly, it's important to consider the use of data analytics and artificial intelligence to gain valuable insights from the extensive data generated by these systems. By analyzing this data, organizations can identify trends and patterns, make more informed decisions, and improve their overall quality management strategy.\n",
      "\n",
      "These digital transformations not only increase efficiency and quality control, but they also provide valuable insights into how the organization can better serve their customers and clients.</s>\n"
     ]
    }
   ],
   "source": [
    "question = \"\"\"How can we improve the efficiency and quality control of our production and packaging lines through digital transformation?\"\"\"\n",
    "context=\"\"\"CONTEXT: <<<1 Omnichannel Strategy   eCommerce fine-tuning Context and project s objectives Main activities and project output In this context, Alkemy s main activities were: Assessment of Alessi sales channels with the identification of main performance KPIs and macro-trends Benchmark with main Alessi competitors and comparable with the aim to identify the best practices within omnichannel approach Analysis of Alessi digital positioning and customer interaction model along all the customer journey and brand intimacy phases Omnichannel strategy definition with the quantification of full economical potential Individuation and estimation of specific short terms   quick win   and medium terms omnichannel initiatives to be implemented The project enabled Alessi to define an Omnichannel strategy that valued the customer journey, and strengthened the feeling of  brand intimacy  PROJECT TIMING 2015-2016 Alessi was managing multiple sale channels and its main need was to define a customer relationship strategy with the aim to make more efficient and deeper relationships between customers and brand. Alessi therefore asked Alkemy to define and develop an omnichannel strategy, to identify and estimate the main short and medium terms initiatives to be implemented Quantification of the economic impact of the initiatives Identification of the main strategic initiatives eCommerce  Omnichannel strategy eCommerce Areas>>>\n",
    "\"\"\"\n",
    "prompt=prompt_maker(context, question)\n",
    "encodeds = tokenizer(prompt, return_tensors=\"pt\", add_special_tokens=False)\n",
    "model_inputs = encodeds.to('cuda')\n",
    "generated_ids = base_model.generate(**model_inputs, max_new_tokens=1000, do_sample=True)\n",
    "decoded = tokenizer.batch_decode(generated_ids)\n",
    "print(decoded[0])"
   ]
  }
 ],
 "metadata": {
  "kernelspec": {
   "display_name": ".venv",
   "language": "python",
   "name": "python3"
  },
  "language_info": {
   "codemirror_mode": {
    "name": "ipython",
    "version": 3
   },
   "file_extension": ".py",
   "mimetype": "text/x-python",
   "name": "python",
   "nbconvert_exporter": "python",
   "pygments_lexer": "ipython3",
   "version": "3.11.5"
  }
 },
 "nbformat": 4,
 "nbformat_minor": 2
}
