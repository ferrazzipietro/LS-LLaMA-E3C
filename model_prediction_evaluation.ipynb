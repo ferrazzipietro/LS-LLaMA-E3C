{
 "cells": [
  {
   "cell_type": "code",
   "execution_count": 5,
   "metadata": {},
   "outputs": [
    {
     "name": "stdout",
     "output_type": "stream",
     "text": [
      "The token has not been saved to the git credentials helper. Pass `add_to_git_credential=True` in this function directly or `--add-to-git-credential` if using via `huggingface-cli` if you want to set the git credential as well.\n",
      "Token is valid (permission: write).\n",
      "Your token has been saved to /Users/pietroferrazzi/.cache/huggingface/token\n",
      "Login successful\n"
     ]
    }
   ],
   "source": [
    "from huggingface_hub import login\n",
    "from datasets import load_dataset\n",
    "from dotenv import dotenv_values\n",
    "import os\n",
    "import torch\n",
    "import pandas as pd\n",
    "from peft import PeftConfig\n",
    "from transformers import AutoTokenizer\n",
    "from utils import Evaluator, generate_adapters_list\n",
    "\n",
    "HF_TOKEN = dotenv_values(\".env.base\")['HF_TOKEN']\n",
    "HF_TOKEN_WRITE = dotenv_values(\".env.base\")['HF_TOKEN_WRITE']\n",
    "login(token=HF_TOKEN_WRITE)\n",
    "\n",
    "\n",
    "appendix = '3EpochsLast'# '5EpochsBestF1Train' # '5EpochsBestF1Train' # 5EpochsBestF1Train\n",
    "log_name_training ='llama_3EpochsLast_cl'\n",
    "training_type = ''#'NoLora' # 'unmasked'\n",
    "\n",
    "def extract_params_from_file_name(df: pd.DataFrame, training_type:str=''):\n",
    "    if training_type == 'NoLora':\n",
    "        df['model_type'] = df['dataset'].apply(lambda x: str(x.split('/')[1].split('_')[1]))\n",
    "        df['training_config'] = df['dataset'].apply(lambda x: str(x.split('adapters_')[1]))\n",
    "        df['layer'] = df['dataset'].apply(lambda x: str(x.split('/')[1].split('_')[3]))\n",
    "        df['quantization'] = df['dataset'].apply(lambda x: str(x.split('/')[1].split('_')[4]))\n",
    "        df['gradient_accumulation_steps'] = df['dataset'].apply(lambda x: str(x.split('/')[1].split('_')[5]))\n",
    "        df['learning_rate'] = df['dataset'].apply(lambda x: str(x.split('/')[1].split('_')[6]))\n",
    "        df['run_type'] = df['dataset'].apply(lambda x: str(x.split('/')[1].split('_')[7]))\n",
    "    else:        \n",
    "        df['model_type'] = df['dataset'].apply(lambda x: str(x.split('/')[1].split('_')[1]))\n",
    "        df['training_config'] = df['dataset'].apply(lambda x: str(x.split('adapters_')[1]))\n",
    "        df['layer'] = df['dataset'].apply(lambda x: str(x.split('/')[1].split('_')[3]))\n",
    "        df['quantization'] = df['dataset'].apply(lambda x: str(x.split('/')[1].split('_')[4]))\n",
    "        df['r'] = df['dataset'].apply(lambda x: str(x.split('/')[1].split('_')[5]))\n",
    "        df['lora_alpha'] = df['dataset'].apply(lambda x: str(x.split('/')[1].split('_')[6]))\n",
    "        df['lora_dropout'] = df['dataset'].apply(lambda x: str(x.split('/')[1].split('_')[7]))\n",
    "        df['gradient_accumulation_steps'] = df['dataset'].apply(lambda x: str(x.split('/')[1].split('_')[8]))\n",
    "        df['learning_rate'] = df['dataset'].apply(lambda x: str(x.split('/')[1].split('_')[9]))\n",
    "        df['run_type'] = df['dataset'].apply(lambda x: str(x.split('/')[1].split('_')[10]))\n",
    "    return df"
   ]
  },
  {
   "cell_type": "code",
   "execution_count": 6,
   "metadata": {},
   "outputs": [
    {
     "name": "stderr",
     "output_type": "stream",
     "text": [
      "/Users/pietroferrazzi/Desktop/dottorato/LS-LLaMA-E3C/.venv/lib/python3.11/site-packages/huggingface_hub/file_download.py:1132: FutureWarning: `resume_download` is deprecated and will be removed in version 1.0.0. Downloads always resume when possible. If you want to force a new download, use `force_download=True`.\n",
      "  warnings.warn(\n"
     ]
    },
    {
     "name": "stdout",
     "output_type": "stream",
     "text": [
      "evaluating ferrazzipietro/LS_Llama-2-7b-hf_adapters_en.layer1_NoQuant_64_32_0.01_4_0.0002_3EpochsLast, 0/36...\n"
     ]
    },
    {
     "name": "stderr",
     "output_type": "stream",
     "text": [
      "Downloading readme: 100%|██████████| 913/913 [00:00<00:00, 3.64MB/s]\n",
      "Downloading data: 100%|██████████| 318k/318k [00:00<00:00, 567kB/s]\n",
      "Generating test split: 100%|██████████| 681/681 [00:00<00:00, 74230.65 examples/s]\n",
      "Map: 100%|██████████| 681/681 [00:00<00:00, 9569.04 examples/s]\n",
      "/var/folders/9q/smpv54vn7238f0k83jbngk0c0000gn/T/ipykernel_27493/2274005840.py:16: FutureWarning: The behavior of DataFrame concatenation with empty or all-NA entries is deprecated. In a future version, this will no longer exclude empty or all-NA columns when determining the result dtypes. To retain the old behavior, exclude the relevant entries before the concat operation.\n",
      "  evaluation_table = pd.concat([evaluation_table, pd.DataFrame([tmp])])#  evaluation_table.con(tmp)\n"
     ]
    },
    {
     "name": "stdout",
     "output_type": "stream",
     "text": [
      "{'TP': 2559, 'FP': 2328, 'FN': 8307, 'precision': 0.523634131368938, 'recall': 0.23550524572059636, 'f1': 0.3248904970481813}\n",
      "evaluating ferrazzipietro/LS_Llama-2-7b-hf_adapters_en.layer1_NoQuant_16_64_0.01_4_0.0002_3EpochsLast, 1/36...\n"
     ]
    },
    {
     "name": "stderr",
     "output_type": "stream",
     "text": [
      "Downloading readme: 100%|██████████| 913/913 [00:00<00:00, 12.4MB/s]\n",
      "Downloading data: 100%|██████████| 318k/318k [00:00<00:00, 774kB/s]\n",
      "Generating test split: 100%|██████████| 681/681 [00:00<00:00, 89971.37 examples/s]\n",
      "Map: 100%|██████████| 681/681 [00:00<00:00, 11265.54 examples/s]\n"
     ]
    },
    {
     "name": "stdout",
     "output_type": "stream",
     "text": [
      "{'TP': 2594, 'FP': 2364, 'FN': 8272, 'precision': 0.5231948366276724, 'recall': 0.2387263022271305, 'f1': 0.32785642062689585}\n",
      "evaluating ferrazzipietro/LS_Llama-2-7b-hf_adapters_en.layer1_NoQuant_16_64_0.01_8_0.0002_3EpochsLast, 2/36...\n"
     ]
    },
    {
     "name": "stderr",
     "output_type": "stream",
     "text": [
      "Downloading readme: 100%|██████████| 913/913 [00:00<00:00, 2.85MB/s]\n",
      "Downloading data: 100%|██████████| 318k/318k [00:00<00:00, 836kB/s]\n",
      "Generating test split: 100%|██████████| 681/681 [00:00<00:00, 76673.58 examples/s]\n",
      "Map: 100%|██████████| 681/681 [00:00<00:00, 10500.49 examples/s]\n"
     ]
    },
    {
     "name": "stdout",
     "output_type": "stream",
     "text": [
      "{'TP': 1652, 'FP': 1571, 'FN': 9214, 'precision': 0.5125659323611542, 'recall': 0.15203386710841155, 'f1': 0.23450919156788982}\n",
      "evaluating ferrazzipietro/LS_Llama-2-7b-hf_adapters_en.layer1_NoQuant_32_32_0.05_4_0.0002_3EpochsLast, 3/36...\n"
     ]
    },
    {
     "name": "stderr",
     "output_type": "stream",
     "text": [
      "Downloading readme: 100%|██████████| 913/913 [00:00<00:00, 4.64MB/s]\n",
      "Downloading data: 100%|██████████| 321k/321k [00:00<00:00, 602kB/s]\n",
      "Generating test split: 100%|██████████| 681/681 [00:00<00:00, 83088.14 examples/s]\n",
      "Map: 100%|██████████| 681/681 [00:00<00:00, 10756.29 examples/s]\n"
     ]
    },
    {
     "name": "stdout",
     "output_type": "stream",
     "text": [
      "{'TP': 2879, 'FP': 1823, 'FN': 7987, 'precision': 0.612292641429179, 'recall': 0.2649549052089085, 'f1': 0.3698612538540596}\n",
      "evaluating ferrazzipietro/LS_Llama-2-7b-hf_adapters_en.layer1_NoQuant_32_64_0.05_8_0.0002_3EpochsLast, 4/36...\n"
     ]
    },
    {
     "name": "stderr",
     "output_type": "stream",
     "text": [
      "Downloading readme: 100%|██████████| 913/913 [00:00<00:00, 4.91MB/s]\n",
      "Downloading data: 100%|██████████| 321k/321k [00:00<00:00, 679kB/s]\n",
      "Generating test split: 100%|██████████| 681/681 [00:00<00:00, 83782.74 examples/s]\n",
      "Map: 100%|██████████| 681/681 [00:00<00:00, 10722.77 examples/s]\n"
     ]
    },
    {
     "name": "stdout",
     "output_type": "stream",
     "text": [
      "{'TP': 3216, 'FP': 2140, 'FN': 7650, 'precision': 0.6004480955937267, 'recall': 0.2959690778575373, 'f1': 0.3964985821723585}\n",
      "evaluating ferrazzipietro/LS_Llama-2-7b-hf_adapters_en.layer1_NoQuant_32_64_0.05_2_0.0002_3EpochsLast, 5/36...\n"
     ]
    },
    {
     "name": "stderr",
     "output_type": "stream",
     "text": [
      "Downloading readme: 100%|██████████| 913/913 [00:00<00:00, 8.76MB/s]\n",
      "Downloading data: 100%|██████████| 318k/318k [00:00<00:00, 720kB/s]\n",
      "Generating test split: 100%|██████████| 681/681 [00:00<00:00, 85349.94 examples/s]\n",
      "Map: 100%|██████████| 681/681 [00:00<00:00, 10853.15 examples/s]\n"
     ]
    },
    {
     "name": "stdout",
     "output_type": "stream",
     "text": [
      "{'TP': 242, 'FP': 274, 'FN': 10624, 'precision': 0.4689922480620155, 'recall': 0.022271304988036075, 'f1': 0.0425232823756809}\n",
      "evaluating ferrazzipietro/LS_Llama-2-7b-hf_adapters_en.layer1_NoQuant_64_32_0.05_4_0.0002_3EpochsLast, 6/36...\n"
     ]
    },
    {
     "name": "stderr",
     "output_type": "stream",
     "text": [
      "Downloading readme: 100%|██████████| 913/913 [00:00<00:00, 8.70MB/s]\n",
      "Downloading data: 100%|██████████| 318k/318k [00:00<00:00, 659kB/s]\n",
      "Generating test split: 100%|██████████| 681/681 [00:00<00:00, 100787.62 examples/s]\n",
      "Map: 100%|██████████| 681/681 [00:00<00:00, 11920.96 examples/s]\n"
     ]
    },
    {
     "name": "stdout",
     "output_type": "stream",
     "text": [
      "{'TP': 2364, 'FP': 2143, 'FN': 8502, 'precision': 0.5245174173507877, 'recall': 0.21755935946990612, 'f1': 0.30755220191244387}\n",
      "evaluating ferrazzipietro/LS_Llama-2-7b-hf_adapters_en.layer1_NoQuant_16_32_0.05_8_0.0002_3EpochsLast, 7/36...\n"
     ]
    },
    {
     "name": "stderr",
     "output_type": "stream",
     "text": [
      "Downloading readme: 100%|██████████| 913/913 [00:00<00:00, 5.71MB/s]\n",
      "Downloading data: 100%|██████████| 320k/320k [00:00<00:00, 495kB/s]\n",
      "Generating test split: 100%|██████████| 681/681 [00:00<00:00, 163949.09 examples/s]\n",
      "Map: 100%|██████████| 681/681 [00:00<00:00, 11517.05 examples/s]\n"
     ]
    },
    {
     "name": "stdout",
     "output_type": "stream",
     "text": [
      "{'TP': 10593, 'FP': 8934, 'FN': 273, 'precision': 0.5424796435704409, 'recall': 0.9748757592490337, 'f1': 0.6970684039087948}\n",
      "evaluating ferrazzipietro/LS_Llama-2-7b-hf_adapters_en.layer1_NoQuant_32_32_0.05_2_0.0002_3EpochsLast, 8/36...\n"
     ]
    },
    {
     "name": "stderr",
     "output_type": "stream",
     "text": [
      "Downloading readme: 100%|██████████| 913/913 [00:00<00:00, 13.2MB/s]\n",
      "Downloading data: 100%|██████████| 318k/318k [00:00<00:00, 630kB/s]\n",
      "Generating test split: 100%|██████████| 681/681 [00:00<00:00, 132102.54 examples/s]\n",
      "Map: 100%|██████████| 681/681 [00:00<00:00, 11832.95 examples/s]\n"
     ]
    },
    {
     "name": "stdout",
     "output_type": "stream",
     "text": [
      "{'TP': 282, 'FP': 288, 'FN': 10584, 'precision': 0.49473684210526314, 'recall': 0.025952512424075095, 'f1': 0.04931794333683105}\n",
      "evaluating ferrazzipietro/LS_Llama-2-7b-hf_adapters_en.layer1_NoQuant_16_32_0.01_8_0.0002_3EpochsLast, 9/36...\n"
     ]
    },
    {
     "name": "stderr",
     "output_type": "stream",
     "text": [
      "Downloading readme: 100%|██████████| 913/913 [00:00<00:00, 11.3MB/s]\n",
      "Downloading data: 100%|██████████| 319k/319k [00:00<00:00, 687kB/s]\n",
      "Generating test split: 100%|██████████| 681/681 [00:00<00:00, 107566.51 examples/s]\n",
      "Map: 100%|██████████| 681/681 [00:00<00:00, 10984.41 examples/s]\n"
     ]
    },
    {
     "name": "stdout",
     "output_type": "stream",
     "text": [
      "{'TP': 346, 'FP': 419, 'FN': 10520, 'precision': 0.4522875816993464, 'recall': 0.03184244432173753, 'f1': 0.05949617401771129}\n",
      "evaluating ferrazzipietro/LS_Llama-2-7b-hf_adapters_en.layer1_NoQuant_32_32_0.01_4_0.0002_3EpochsLast, 10/36...\n"
     ]
    },
    {
     "name": "stderr",
     "output_type": "stream",
     "text": [
      "Downloading readme: 100%|██████████| 913/913 [00:00<00:00, 6.08MB/s]\n",
      "Downloading data: 100%|██████████| 317k/317k [00:00<00:00, 678kB/s]\n",
      "Generating test split: 100%|██████████| 681/681 [00:00<00:00, 152215.35 examples/s]\n",
      "Map: 100%|██████████| 681/681 [00:00<00:00, 12212.87 examples/s]\n"
     ]
    },
    {
     "name": "stdout",
     "output_type": "stream",
     "text": [
      "{'TP': 316, 'FP': 346, 'FN': 10550, 'precision': 0.4773413897280967, 'recall': 0.029081538744708264, 'f1': 0.05482303955586398}\n",
      "evaluating ferrazzipietro/LS_Llama-2-7b-hf_adapters_en.layer1_NoQuant_64_32_0.05_2_0.0002_3EpochsLast, 11/36...\n"
     ]
    },
    {
     "name": "stderr",
     "output_type": "stream",
     "text": [
      "Downloading readme: 100%|██████████| 913/913 [00:00<00:00, 12.3MB/s]\n",
      "Downloading data: 100%|██████████| 320k/320k [00:00<00:00, 649kB/s]\n",
      "Generating test split: 100%|██████████| 681/681 [00:00<00:00, 112617.63 examples/s]\n",
      "Map: 100%|██████████| 681/681 [00:00<00:00, 11362.70 examples/s]\n"
     ]
    },
    {
     "name": "stdout",
     "output_type": "stream",
     "text": [
      "{'TP': 2612, 'FP': 1799, 'FN': 8254, 'precision': 0.5921559737021084, 'recall': 0.24038284557334805, 'f1': 0.341951953917654}\n",
      "evaluating ferrazzipietro/LS_Llama-2-7b-hf_adapters_en.layer1_NoQuant_32_64_0.01_4_0.0002_3EpochsLast, 12/36...\n"
     ]
    },
    {
     "name": "stderr",
     "output_type": "stream",
     "text": [
      "Downloading readme: 100%|██████████| 913/913 [00:00<00:00, 6.80MB/s]\n",
      "Downloading data: 100%|██████████| 318k/318k [00:00<00:00, 654kB/s]\n",
      "Generating test split: 100%|██████████| 681/681 [00:00<00:00, 86828.82 examples/s]\n",
      "Map: 100%|██████████| 681/681 [00:00<00:00, 10709.58 examples/s]\n"
     ]
    },
    {
     "name": "stdout",
     "output_type": "stream",
     "text": [
      "{'TP': 353, 'FP': 355, 'FN': 10513, 'precision': 0.4985875706214689, 'recall': 0.032486655623044355, 'f1': 0.0609987903922585}\n",
      "evaluating ferrazzipietro/LS_Llama-2-7b-hf_adapters_en.layer1_NoQuant_64_64_0.01_2_0.0002_3EpochsLast, 13/36...\n"
     ]
    },
    {
     "name": "stderr",
     "output_type": "stream",
     "text": [
      "Downloading readme: 100%|██████████| 913/913 [00:00<00:00, 7.48MB/s]\n",
      "Downloading data: 100%|██████████| 322k/322k [00:00<00:00, 768kB/s]\n",
      "Generating test split: 100%|██████████| 681/681 [00:00<00:00, 82355.07 examples/s]\n",
      "Map: 100%|██████████| 681/681 [00:00<00:00, 10716.50 examples/s]\n"
     ]
    },
    {
     "name": "stdout",
     "output_type": "stream",
     "text": [
      "{'TP': 7894, 'FP': 1972, 'FN': 2972, 'precision': 0.800121629839854, 'recall': 0.7264862875023007, 'f1': 0.7615280725448582}\n",
      "evaluating ferrazzipietro/LS_Llama-2-7b-hf_adapters_en.layer1_NoQuant_64_32_0.01_2_0.0002_3EpochsLast, 14/36...\n"
     ]
    },
    {
     "name": "stderr",
     "output_type": "stream",
     "text": [
      "Downloading readme: 100%|██████████| 913/913 [00:00<00:00, 3.37MB/s]\n",
      "Downloading data: 100%|██████████| 317k/317k [00:00<00:00, 782kB/s]\n",
      "Generating test split: 100%|██████████| 681/681 [00:00<00:00, 89112.44 examples/s]\n",
      "Map: 100%|██████████| 681/681 [00:00<00:00, 10858.76 examples/s]\n"
     ]
    },
    {
     "name": "stdout",
     "output_type": "stream",
     "text": [
      "{'TP': 235, 'FP': 273, 'FN': 10631, 'precision': 0.4625984251968504, 'recall': 0.021627093686729246, 'f1': 0.04132231404958677}\n",
      "evaluating ferrazzipietro/LS_Llama-2-7b-hf_adapters_en.layer1_NoQuant_32_32_0.01_8_0.0002_3EpochsLast, 15/36...\n"
     ]
    },
    {
     "name": "stderr",
     "output_type": "stream",
     "text": [
      "Downloading readme: 100%|██████████| 913/913 [00:00<00:00, 3.97MB/s]\n",
      "Downloading data: 100%|██████████| 318k/318k [00:00<00:00, 594kB/s]\n",
      "Generating test split: 100%|██████████| 681/681 [00:00<00:00, 85852.75 examples/s]\n",
      "Map: 100%|██████████| 681/681 [00:00<00:00, 10640.44 examples/s]\n"
     ]
    },
    {
     "name": "stdout",
     "output_type": "stream",
     "text": [
      "{'TP': 368, 'FP': 379, 'FN': 10498, 'precision': 0.4926372155287818, 'recall': 0.03386710841155899, 'f1': 0.06337724963403081}\n",
      "evaluating ferrazzipietro/LS_Llama-2-7b-hf_adapters_en.layer1_NoQuant_16_64_0.01_2_0.0002_3EpochsLast, 16/36...\n"
     ]
    },
    {
     "name": "stderr",
     "output_type": "stream",
     "text": [
      "Downloading readme: 100%|██████████| 913/913 [00:00<00:00, 6.44MB/s]\n",
      "Downloading data: 100%|██████████| 317k/317k [00:00<00:00, 753kB/s]\n",
      "Generating test split: 100%|██████████| 681/681 [00:00<00:00, 84145.56 examples/s]\n",
      "Map: 100%|██████████| 681/681 [00:00<00:00, 10615.89 examples/s]\n"
     ]
    },
    {
     "name": "stdout",
     "output_type": "stream",
     "text": [
      "{'TP': 190, 'FP': 84, 'FN': 10676, 'precision': 0.6934306569343066, 'recall': 0.017485735321185348, 'f1': 0.0341113105924596}\n",
      "evaluating ferrazzipietro/LS_Llama-2-7b-hf_adapters_en.layer1_NoQuant_16_32_0.05_2_0.0002_3EpochsLast, 17/36...\n"
     ]
    },
    {
     "name": "stderr",
     "output_type": "stream",
     "text": [
      "Downloading readme: 100%|██████████| 913/913 [00:00<00:00, 3.51MB/s]\n",
      "Downloading data: 100%|██████████| 320k/320k [00:00<00:00, 460kB/s]\n",
      "Generating test split: 100%|██████████| 681/681 [00:00<00:00, 84564.08 examples/s]\n",
      "Map: 100%|██████████| 681/681 [00:00<00:00, 11003.58 examples/s]\n"
     ]
    },
    {
     "name": "stdout",
     "output_type": "stream",
     "text": [
      "{'TP': 4784, 'FP': 4179, 'FN': 6082, 'precision': 0.5337498605377664, 'recall': 0.4402724093502669, 'f1': 0.4825255938272228}\n",
      "evaluating ferrazzipietro/LS_Llama-2-7b-hf_adapters_en.layer1_NoQuant_16_32_0.01_4_0.0002_3EpochsLast, 18/36...\n"
     ]
    },
    {
     "name": "stderr",
     "output_type": "stream",
     "text": [
      "Downloading readme: 100%|██████████| 913/913 [00:00<00:00, 4.01MB/s]\n",
      "Downloading data: 100%|██████████| 318k/318k [00:00<00:00, 786kB/s]\n",
      "Generating test split: 100%|██████████| 681/681 [00:00<00:00, 87496.43 examples/s]\n",
      "Map: 100%|██████████| 681/681 [00:00<00:00, 10662.61 examples/s]\n"
     ]
    },
    {
     "name": "stdout",
     "output_type": "stream",
     "text": [
      "{'TP': 2176, 'FP': 1960, 'FN': 8690, 'precision': 0.5261121856866537, 'recall': 0.20025768452052273, 'f1': 0.29009465404612716}\n",
      "evaluating ferrazzipietro/LS_Llama-2-7b-hf_adapters_en.layer1_NoQuant_32_64_0.05_4_0.0002_3EpochsLast, 19/36...\n"
     ]
    },
    {
     "name": "stderr",
     "output_type": "stream",
     "text": [
      "Downloading readme: 100%|██████████| 913/913 [00:00<00:00, 3.38MB/s]\n",
      "Downloading data: 100%|██████████| 318k/318k [00:00<00:00, 617kB/s]\n",
      "Generating test split: 100%|██████████| 681/681 [00:00<00:00, 81704.88 examples/s]\n",
      "Map: 100%|██████████| 681/681 [00:00<00:00, 10743.70 examples/s]\n"
     ]
    },
    {
     "name": "stdout",
     "output_type": "stream",
     "text": [
      "{'TP': 2500, 'FP': 2263, 'FN': 8366, 'precision': 0.5248792777661138, 'recall': 0.2300754647524388, 'f1': 0.3199181009661527}\n",
      "evaluating ferrazzipietro/LS_Llama-2-7b-hf_adapters_en.layer1_NoQuant_64_64_0.05_8_0.0002_3EpochsLast, 20/36...\n"
     ]
    },
    {
     "name": "stderr",
     "output_type": "stream",
     "text": [
      "Downloading readme: 100%|██████████| 913/913 [00:00<00:00, 6.09MB/s]\n",
      "Downloading data: 100%|██████████| 318k/318k [00:00<00:00, 715kB/s]\n",
      "Generating test split: 100%|██████████| 681/681 [00:00<00:00, 100532.21 examples/s]\n",
      "Map: 100%|██████████| 681/681 [00:00<00:00, 5097.04 examples/s]\n"
     ]
    },
    {
     "name": "stdout",
     "output_type": "stream",
     "text": [
      "{'TP': 2382, 'FP': 2157, 'FN': 8484, 'precision': 0.5247851949768672, 'recall': 0.2192159028161237, 'f1': 0.3092502434274586}\n",
      "evaluating ferrazzipietro/LS_Llama-2-7b-hf_adapters_en.layer1_NoQuant_16_64_0.05_4_0.0002_3EpochsLast, 21/36...\n"
     ]
    },
    {
     "name": "stderr",
     "output_type": "stream",
     "text": [
      "Downloading readme: 100%|██████████| 913/913 [00:00<00:00, 4.56MB/s]\n",
      "Downloading data: 100%|██████████| 318k/318k [00:00<00:00, 667kB/s]\n",
      "Generating test split: 100%|██████████| 681/681 [00:00<00:00, 86531.58 examples/s]\n",
      "Map: 100%|██████████| 681/681 [00:00<00:00, 10648.82 examples/s]\n"
     ]
    },
    {
     "name": "stdout",
     "output_type": "stream",
     "text": [
      "{'TP': 735, 'FP': 814, 'FN': 10131, 'precision': 0.4744996772111039, 'recall': 0.06764218663721701, 'f1': 0.1184051550543697}\n",
      "evaluating ferrazzipietro/LS_Llama-2-7b-hf_adapters_en.layer1_NoQuant_32_32_0.05_8_0.0002_3EpochsLast, 22/36...\n"
     ]
    },
    {
     "name": "stderr",
     "output_type": "stream",
     "text": [
      "Downloading readme: 100%|██████████| 913/913 [00:00<00:00, 5.78MB/s]\n",
      "Downloading data: 100%|██████████| 318k/318k [00:00<00:00, 445kB/s]\n",
      "Generating test split: 100%|██████████| 681/681 [00:00<00:00, 93060.99 examples/s]\n",
      "Map: 100%|██████████| 681/681 [00:00<00:00, 10691.58 examples/s]\n"
     ]
    },
    {
     "name": "stdout",
     "output_type": "stream",
     "text": [
      "{'TP': 2297, 'FP': 2087, 'FN': 8569, 'precision': 0.5239507299270073, 'recall': 0.21139333701454077, 'f1': 0.3012459016393443}\n",
      "evaluating ferrazzipietro/LS_Llama-2-7b-hf_adapters_en.layer1_NoQuant_16_64_0.05_8_0.0002_3EpochsLast, 23/36...\n"
     ]
    },
    {
     "name": "stderr",
     "output_type": "stream",
     "text": [
      "Downloading readme: 100%|██████████| 913/913 [00:00<00:00, 3.09MB/s]\n",
      "Downloading data: 100%|██████████| 322k/322k [00:00<00:00, 697kB/s]\n",
      "Generating test split: 100%|██████████| 681/681 [00:00<00:00, 87432.15 examples/s]\n",
      "Map: 100%|██████████| 681/681 [00:00<00:00, 10554.38 examples/s]\n"
     ]
    },
    {
     "name": "stdout",
     "output_type": "stream",
     "text": [
      "{'TP': 8803, 'FP': 6910, 'FN': 2063, 'precision': 0.5602367466429071, 'recall': 0.8101417264862875, 'f1': 0.6624026487076262}\n",
      "evaluating ferrazzipietro/LS_Llama-2-7b-hf_adapters_en.layer1_NoQuant_64_64_0.01_4_0.0002_3EpochsLast, 24/36...\n"
     ]
    },
    {
     "name": "stderr",
     "output_type": "stream",
     "text": [
      "Downloading readme: 100%|██████████| 913/913 [00:00<00:00, 5.81MB/s]\n",
      "Downloading data: 100%|██████████| 321k/321k [00:00<00:00, 724kB/s]\n",
      "Generating test split: 100%|██████████| 681/681 [00:00<00:00, 81597.52 examples/s]\n",
      "Map: 100%|██████████| 681/681 [00:00<00:00, 10459.73 examples/s]\n"
     ]
    },
    {
     "name": "stdout",
     "output_type": "stream",
     "text": [
      "{'TP': 9830, 'FP': 7206, 'FN': 1036, 'precision': 0.5770133834233389, 'recall': 0.9046567274065893, 'f1': 0.7046089886029676}\n",
      "evaluating ferrazzipietro/LS_Llama-2-7b-hf_adapters_en.layer1_NoQuant_64_64_0.05_2_0.0002_3EpochsLast, 25/36...\n"
     ]
    },
    {
     "name": "stderr",
     "output_type": "stream",
     "text": [
      "Downloading readme: 100%|██████████| 913/913 [00:00<00:00, 13.4MB/s]\n",
      "Downloading data: 100%|██████████| 320k/320k [00:00<00:00, 477kB/s]\n",
      "Generating test split: 100%|██████████| 681/681 [00:00<00:00, 116594.05 examples/s]\n",
      "Map: 100%|██████████| 681/681 [00:00<00:00, 11941.89 examples/s]\n"
     ]
    },
    {
     "name": "stdout",
     "output_type": "stream",
     "text": [
      "{'TP': 5199, 'FP': 4137, 'FN': 5667, 'precision': 0.5568766066838047, 'recall': 0.4784649364991717, 'f1': 0.5147015147015147}\n",
      "evaluating ferrazzipietro/LS_Llama-2-7b-hf_adapters_en.layer1_NoQuant_64_64_0.05_4_0.0002_3EpochsLast, 26/36...\n"
     ]
    },
    {
     "name": "stderr",
     "output_type": "stream",
     "text": [
      "Downloading readme: 100%|██████████| 913/913 [00:00<00:00, 3.33MB/s]\n",
      "Downloading data: 100%|██████████| 323k/323k [00:00<00:00, 650kB/s]\n",
      "Generating test split: 100%|██████████| 681/681 [00:00<00:00, 177345.15 examples/s]\n",
      "Map: 100%|██████████| 681/681 [00:00<00:00, 12337.63 examples/s]\n"
     ]
    },
    {
     "name": "stdout",
     "output_type": "stream",
     "text": [
      "{'TP': 9311, 'FP': 3401, 'FN': 1555, 'precision': 0.7324575204531152, 'recall': 0.8568930609239831, 'f1': 0.7898040546271949}\n",
      "evaluating ferrazzipietro/LS_Llama-2-7b-hf_adapters_en.layer1_NoQuant_16_32_0.01_2_0.0002_3EpochsLast, 27/36...\n"
     ]
    },
    {
     "name": "stderr",
     "output_type": "stream",
     "text": [
      "Downloading readme: 100%|██████████| 913/913 [00:00<00:00, 9.16MB/s]\n",
      "Downloading data: 100%|██████████| 320k/320k [00:00<00:00, 662kB/s]\n",
      "Generating test split: 100%|██████████| 681/681 [00:00<00:00, 91840.17 examples/s]\n",
      "Map: 100%|██████████| 681/681 [00:00<00:00, 5176.14 examples/s]\n"
     ]
    },
    {
     "name": "stdout",
     "output_type": "stream",
     "text": [
      "{'TP': 7539, 'FP': 6144, 'FN': 3327, 'precision': 0.5509756632317474, 'recall': 0.6938155715074544, 'f1': 0.6142001710863987}\n",
      "evaluating ferrazzipietro/LS_Llama-2-7b-hf_adapters_en.layer1_NoQuant_32_64_0.01_2_0.0002_3EpochsLast, 28/36...\n"
     ]
    },
    {
     "name": "stderr",
     "output_type": "stream",
     "text": [
      "Downloading readme: 100%|██████████| 913/913 [00:00<00:00, 3.23MB/s]\n",
      "Downloading data: 100%|██████████| 318k/318k [00:00<00:00, 659kB/s]\n",
      "Generating test split: 100%|██████████| 681/681 [00:00<00:00, 83435.21 examples/s]\n",
      "Map: 100%|██████████| 681/681 [00:00<00:00, 10975.93 examples/s]\n"
     ]
    },
    {
     "name": "stdout",
     "output_type": "stream",
     "text": [
      "{'TP': 7722, 'FP': 6984, 'FN': 3144, 'precision': 0.5250917992656059, 'recall': 0.7106570955273329, 'f1': 0.6039418113561708}\n",
      "evaluating ferrazzipietro/LS_Llama-2-7b-hf_adapters_en.layer1_NoQuant_64_32_0.05_8_0.0002_3EpochsLast, 29/36...\n"
     ]
    },
    {
     "name": "stderr",
     "output_type": "stream",
     "text": [
      "Downloading readme: 100%|██████████| 913/913 [00:00<00:00, 8.17MB/s]\n",
      "Downloading data: 100%|██████████| 319k/319k [00:00<00:00, 773kB/s]\n",
      "Generating test split: 100%|██████████| 681/681 [00:00<00:00, 54107.24 examples/s]\n",
      "Map: 100%|██████████| 681/681 [00:00<00:00, 11167.41 examples/s]\n"
     ]
    },
    {
     "name": "stdout",
     "output_type": "stream",
     "text": [
      "{'TP': 347, 'FP': 420, 'FN': 10519, 'precision': 0.45241199478487615, 'recall': 0.031934474507638505, 'f1': 0.05965786985300438}\n",
      "evaluating ferrazzipietro/LS_Llama-2-7b-hf_adapters_en.layer1_NoQuant_16_64_0.05_2_0.0002_3EpochsLast, 30/36...\n"
     ]
    },
    {
     "name": "stderr",
     "output_type": "stream",
     "text": [
      "Downloading readme: 100%|██████████| 913/913 [00:00<00:00, 5.90MB/s]\n",
      "Downloading data: 100%|██████████| 318k/318k [00:00<00:00, 658kB/s]\n",
      "Generating test split: 100%|██████████| 681/681 [00:00<00:00, 50776.33 examples/s]\n",
      "Map: 100%|██████████| 681/681 [00:00<00:00, 7482.94 examples/s]\n"
     ]
    },
    {
     "name": "stdout",
     "output_type": "stream",
     "text": [
      "{'TP': 1237, 'FP': 1454, 'FN': 9629, 'precision': 0.45968041620215533, 'recall': 0.11384133995950672, 'f1': 0.18248875119864277}\n",
      "evaluating ferrazzipietro/LS_Llama-2-7b-hf_adapters_en.layer1_NoQuant_32_64_0.01_8_0.0002_3EpochsLast, 31/36...\n"
     ]
    },
    {
     "name": "stderr",
     "output_type": "stream",
     "text": [
      "Downloading readme: 100%|██████████| 913/913 [00:00<00:00, 3.05MB/s]\n",
      "Downloading data: 100%|██████████| 318k/318k [00:00<00:00, 752kB/s]\n",
      "Generating test split: 100%|██████████| 681/681 [00:00<00:00, 153557.39 examples/s]\n",
      "Map: 100%|██████████| 681/681 [00:00<00:00, 9569.04 examples/s]\n"
     ]
    },
    {
     "name": "stdout",
     "output_type": "stream",
     "text": [
      "{'TP': 1593, 'FP': 1585, 'FN': 9273, 'precision': 0.5012586532410321, 'recall': 0.146604086140254, 'f1': 0.22685844488749646}\n",
      "evaluating ferrazzipietro/LS_Llama-2-7b-hf_adapters_en.layer1_NoQuant_64_32_0.01_8_0.0002_3EpochsLast, 32/36...\n"
     ]
    },
    {
     "name": "stderr",
     "output_type": "stream",
     "text": [
      "Downloading readme: 100%|██████████| 913/913 [00:00<00:00, 2.87MB/s]\n",
      "Downloading data: 100%|██████████| 318k/318k [00:00<00:00, 691kB/s]\n",
      "Generating test split: 100%|██████████| 681/681 [00:00<00:00, 63096.62 examples/s]\n",
      "Map: 100%|██████████| 681/681 [00:00<00:00, 8391.96 examples/s]\n"
     ]
    },
    {
     "name": "stdout",
     "output_type": "stream",
     "text": [
      "{'TP': 2425, 'FP': 2226, 'FN': 8441, 'precision': 0.5213932487637067, 'recall': 0.22317320080986564, 'f1': 0.31256041760649605}\n",
      "evaluating ferrazzipietro/LS_Llama-2-7b-hf_adapters_en.layer1_NoQuant_16_32_0.05_4_0.0002_3EpochsLast, 33/36...\n"
     ]
    },
    {
     "name": "stderr",
     "output_type": "stream",
     "text": [
      "Downloading readme: 100%|██████████| 913/913 [00:00<00:00, 2.81MB/s]\n",
      "Downloading data: 100%|██████████| 319k/319k [00:00<00:00, 794kB/s]\n",
      "Generating test split: 100%|██████████| 681/681 [00:00<00:00, 58883.50 examples/s]\n",
      "Map: 100%|██████████| 681/681 [00:00<00:00, 11006.59 examples/s]\n"
     ]
    },
    {
     "name": "stdout",
     "output_type": "stream",
     "text": [
      "{'TP': 3170, 'FP': 2644, 'FN': 7696, 'precision': 0.5452356381148951, 'recall': 0.2917356893060924, 'f1': 0.3800959232613909}\n",
      "evaluating ferrazzipietro/LS_Llama-2-7b-hf_adapters_en.layer1_NoQuant_64_64_0.01_8_0.0002_3EpochsLast, 34/36...\n"
     ]
    },
    {
     "name": "stderr",
     "output_type": "stream",
     "text": [
      "Downloading readme: 100%|██████████| 913/913 [00:00<00:00, 4.27MB/s]\n",
      "Downloading data: 100%|██████████| 318k/318k [00:00<00:00, 715kB/s]\n",
      "Generating test split: 100%|██████████| 681/681 [00:00<00:00, 92347.92 examples/s]\n",
      "Map: 100%|██████████| 681/681 [00:00<00:00, 11327.73 examples/s]\n"
     ]
    },
    {
     "name": "stdout",
     "output_type": "stream",
     "text": [
      "{'TP': 2539, 'FP': 2312, 'FN': 8327, 'precision': 0.523397237682952, 'recall': 0.23366464200257683, 'f1': 0.3230896481516829}\n",
      "evaluating ferrazzipietro/LS_Llama-2-7b-hf_adapters_en.layer1_NoQuant_32_32_0.01_2_0.0002_3EpochsLast, 35/36...\n"
     ]
    },
    {
     "name": "stderr",
     "output_type": "stream",
     "text": [
      "Downloading readme: 100%|██████████| 913/913 [00:00<00:00, 3.82MB/s]\n",
      "Downloading data: 100%|██████████| 318k/318k [00:00<00:00, 712kB/s]\n",
      "Generating test split: 100%|██████████| 681/681 [00:00<00:00, 49897.30 examples/s]\n",
      "Map: 100%|██████████| 681/681 [00:00<00:00, 11109.51 examples/s]\n"
     ]
    },
    {
     "name": "stdout",
     "output_type": "stream",
     "text": [
      "{'TP': 273, 'FP': 301, 'FN': 10593, 'precision': 0.47560975609756095, 'recall': 0.025124240750966316, 'f1': 0.04772727272727273}\n",
      "                                             dataset     TP    FP     FN  \\\n",
      "0  ferrazzipietro/LS_Llama-2-7b-hf_adapters_en.la...   2559  2328   8307   \n",
      "0  ferrazzipietro/LS_Llama-2-7b-hf_adapters_en.la...   2594  2364   8272   \n",
      "0  ferrazzipietro/LS_Llama-2-7b-hf_adapters_en.la...   1652  1571   9214   \n",
      "0  ferrazzipietro/LS_Llama-2-7b-hf_adapters_en.la...   2879  1823   7987   \n",
      "0  ferrazzipietro/LS_Llama-2-7b-hf_adapters_en.la...   3216  2140   7650   \n",
      "0  ferrazzipietro/LS_Llama-2-7b-hf_adapters_en.la...    242   274  10624   \n",
      "0  ferrazzipietro/LS_Llama-2-7b-hf_adapters_en.la...   2364  2143   8502   \n",
      "0  ferrazzipietro/LS_Llama-2-7b-hf_adapters_en.la...  10593  8934    273   \n",
      "0  ferrazzipietro/LS_Llama-2-7b-hf_adapters_en.la...    282   288  10584   \n",
      "0  ferrazzipietro/LS_Llama-2-7b-hf_adapters_en.la...    346   419  10520   \n",
      "0  ferrazzipietro/LS_Llama-2-7b-hf_adapters_en.la...    316   346  10550   \n",
      "0  ferrazzipietro/LS_Llama-2-7b-hf_adapters_en.la...   2612  1799   8254   \n",
      "0  ferrazzipietro/LS_Llama-2-7b-hf_adapters_en.la...    353   355  10513   \n",
      "0  ferrazzipietro/LS_Llama-2-7b-hf_adapters_en.la...   7894  1972   2972   \n",
      "0  ferrazzipietro/LS_Llama-2-7b-hf_adapters_en.la...    235   273  10631   \n",
      "0  ferrazzipietro/LS_Llama-2-7b-hf_adapters_en.la...    368   379  10498   \n",
      "0  ferrazzipietro/LS_Llama-2-7b-hf_adapters_en.la...    190    84  10676   \n",
      "0  ferrazzipietro/LS_Llama-2-7b-hf_adapters_en.la...   4784  4179   6082   \n",
      "0  ferrazzipietro/LS_Llama-2-7b-hf_adapters_en.la...   2176  1960   8690   \n",
      "0  ferrazzipietro/LS_Llama-2-7b-hf_adapters_en.la...   2500  2263   8366   \n",
      "0  ferrazzipietro/LS_Llama-2-7b-hf_adapters_en.la...   2382  2157   8484   \n",
      "0  ferrazzipietro/LS_Llama-2-7b-hf_adapters_en.la...    735   814  10131   \n",
      "0  ferrazzipietro/LS_Llama-2-7b-hf_adapters_en.la...   2297  2087   8569   \n",
      "0  ferrazzipietro/LS_Llama-2-7b-hf_adapters_en.la...   8803  6910   2063   \n",
      "0  ferrazzipietro/LS_Llama-2-7b-hf_adapters_en.la...   9830  7206   1036   \n",
      "0  ferrazzipietro/LS_Llama-2-7b-hf_adapters_en.la...   5199  4137   5667   \n",
      "0  ferrazzipietro/LS_Llama-2-7b-hf_adapters_en.la...   9311  3401   1555   \n",
      "0  ferrazzipietro/LS_Llama-2-7b-hf_adapters_en.la...   7539  6144   3327   \n",
      "0  ferrazzipietro/LS_Llama-2-7b-hf_adapters_en.la...   7722  6984   3144   \n",
      "0  ferrazzipietro/LS_Llama-2-7b-hf_adapters_en.la...    347   420  10519   \n",
      "0  ferrazzipietro/LS_Llama-2-7b-hf_adapters_en.la...   1237  1454   9629   \n",
      "0  ferrazzipietro/LS_Llama-2-7b-hf_adapters_en.la...   1593  1585   9273   \n",
      "0  ferrazzipietro/LS_Llama-2-7b-hf_adapters_en.la...   2425  2226   8441   \n",
      "0  ferrazzipietro/LS_Llama-2-7b-hf_adapters_en.la...   3170  2644   7696   \n",
      "0  ferrazzipietro/LS_Llama-2-7b-hf_adapters_en.la...   2539  2312   8327   \n",
      "0  ferrazzipietro/LS_Llama-2-7b-hf_adapters_en.la...    273   301  10593   \n",
      "\n",
      "   precision    recall        f1  \n",
      "0   0.523634  0.235505  0.324890  \n",
      "0   0.523195  0.238726  0.327856  \n",
      "0   0.512566  0.152034  0.234509  \n",
      "0   0.612293  0.264955  0.369861  \n",
      "0   0.600448  0.295969  0.396499  \n",
      "0   0.468992  0.022271  0.042523  \n",
      "0   0.524517  0.217559  0.307552  \n",
      "0   0.542480  0.974876  0.697068  \n",
      "0   0.494737  0.025953  0.049318  \n",
      "0   0.452288  0.031842  0.059496  \n",
      "0   0.477341  0.029082  0.054823  \n",
      "0   0.592156  0.240383  0.341952  \n",
      "0   0.498588  0.032487  0.060999  \n",
      "0   0.800122  0.726486  0.761528  \n",
      "0   0.462598  0.021627  0.041322  \n",
      "0   0.492637  0.033867  0.063377  \n",
      "0   0.693431  0.017486  0.034111  \n",
      "0   0.533750  0.440272  0.482526  \n",
      "0   0.526112  0.200258  0.290095  \n",
      "0   0.524879  0.230075  0.319918  \n",
      "0   0.524785  0.219216  0.309250  \n",
      "0   0.474500  0.067642  0.118405  \n",
      "0   0.523951  0.211393  0.301246  \n",
      "0   0.560237  0.810142  0.662403  \n",
      "0   0.577013  0.904657  0.704609  \n",
      "0   0.556877  0.478465  0.514702  \n",
      "0   0.732458  0.856893  0.789804  \n",
      "0   0.550976  0.693816  0.614200  \n",
      "0   0.525092  0.710657  0.603942  \n",
      "0   0.452412  0.031934  0.059658  \n",
      "0   0.459680  0.113841  0.182489  \n",
      "0   0.501259  0.146604  0.226858  \n",
      "0   0.521393  0.223173  0.312560  \n",
      "0   0.545236  0.291736  0.380096  \n",
      "0   0.523397  0.233665  0.323090  \n",
      "0   0.475610  0.025124  0.047727  \n",
      "SAVED TO data/evaluation_table_3EpochsLast.csv\n"
     ]
    }
   ],
   "source": [
    "\n",
    "datasets_list = generate_adapters_list(log_name_training, appendix=appendix, training_type=training_type)\n",
    "peft_config = PeftConfig.from_pretrained(datasets_list[0], token = HF_TOKEN_WRITE)\n",
    "BASE_MODEL_CHECKPOINT = peft_config.base_model_name_or_path\n",
    "tokenizer = AutoTokenizer.from_pretrained(BASE_MODEL_CHECKPOINT,token =HF_TOKEN_WRITE)\n",
    "\n",
    "evaluation_table = pd.DataFrame(columns=['dataset', 'TP', 'FP', 'FN', 'precision', 'recall', 'f1'])\n",
    "\n",
    "for i, dataset_checkpoint in enumerate(datasets_list):\n",
    "    print(f\"evaluating {dataset_checkpoint}, {i}/{len(datasets_list)}...\")\n",
    "    test_data = load_dataset(dataset_checkpoint, token=HF_TOKEN, split='test')\n",
    "    eval = Evaluator(test_data, tokenizer)\n",
    "    eval.extract_FP_FN_TP_TN_token_by_token()\n",
    "    eval.create_evaluation_table()\n",
    "    tmp = eval.evaluation_table.copy()\n",
    "    tmp['dataset'] = dataset_checkpoint\n",
    "    evaluation_table = pd.concat([evaluation_table, pd.DataFrame([tmp])])#  evaluation_table.con(tmp)\n",
    "    print(eval.evaluation_table)\n",
    "\n",
    "print(evaluation_table)\n",
    "evaluation_table#.to_csv(f'data/evaluation_table{appendix}.csv', index=False)\n",
    "evaluation_table = extract_params_from_file_name(evaluation_table, training_type=training_type)\n",
    "evaluation_table.to_csv(f'data/evaluation_table{training_type}_{appendix}.csv', index=False)\n",
    "print(f'SAVED TO data/evaluation_table{training_type}_{appendix}.csv')"
   ]
  },
  {
   "cell_type": "code",
   "execution_count": 7,
   "metadata": {},
   "outputs": [],
   "source": [
    "best_data_checkpoint = \"ferrazzipietro/LS_Llama-2-7b-hf_adapters_en.layer1_NoQuant_64_64_0.01_2_0.0002_3EpochsLast\"\n",
    "                       \"ferrazzipietro/LS_Llama-2-7b-hf_adapters_en.layer1_NoQuant_16_64_0.05_4_0.0002_3EpochsLast_clent\"\n",
    "                        \" \"\n",
    "best_data = load_dataset(best_data_checkpoint, token=HF_TOKEN, split='test')"
   ]
  },
  {
   "cell_type": "code",
   "execution_count": 9,
   "metadata": {},
   "outputs": [
    {
     "data": {
      "text/plain": [
       "{'sentence': 'The results of the PCR were positive for RNA specific to SARS-CoV-2.',\n",
       " 'entities': [{'id': '9470',\n",
       "   'offsets': [19, 22],\n",
       "   'role': '',\n",
       "   'semantic_type_id': '',\n",
       "   'text': 'PCR',\n",
       "   'type': 'EVENT'},\n",
       "  {'id': '9485',\n",
       "   'offsets': [57, 67],\n",
       "   'role': '',\n",
       "   'semantic_type_id': '',\n",
       "   'text': 'SARS-CoV-2',\n",
       "   'type': 'EVENT'},\n",
       "  {'id': '10107',\n",
       "   'offsets': [57, 67],\n",
       "   'role': '',\n",
       "   'semantic_type_id': 'C5400365',\n",
       "   'text': 'SARS-CoV-2',\n",
       "   'type': 'CLINENTITY'},\n",
       "  {'id': '10347',\n",
       "   'offsets': [28, 36],\n",
       "   'role': '',\n",
       "   'semantic_type_id': '',\n",
       "   'text': 'positive',\n",
       "   'type': 'RML'}],\n",
       " 'original_text': 'A 43-year-old non-diabetic Indian male reported to our outpatient department with chief complaints of cough with expectoration, chest pain, reduced appetite, fever with chills, and night sweats for two weeks. He also complained of breathlessness on exertion and had two episodes of blood in his sputum. The patient explained that the cough was continuous and was relieved after taking cough syrup. He also mentioned that the episodes of fever were initially intermittent and then daily for the last two weeks and were relieved after taking Paracetamol. The chest pain was localized to the middle of the chest and was aggravated on exertion. He was a businessman by profession with no history of smoking, alcoholism, or any other substance abuse. Also, there was no history of any contact of TB or COVID-19 in the family or close contacts. And there was no history of foreign travel in the recent past. But he had reported having traveled by a domestic airline about twenty days back. There was no history of weight loss or any other major illness in the past.\\r\\nOn examination his vitals were-pulse-108/minute, arterial BP-130/80 mm of Hg, respiratory rate of 30 breaths/minute, Sp02-899% on room air, temperature- 101-degree centigrade. His Sp02 fell by 70% on room air after waking. On auscultation, there was crepitation on the bilateral middle lobes of the lungs. Also, dyspnea on exertion was noted. The rest of the systemic examination was within normal limits.\\r\\nConsidering this as a probable case of TB with COVID-19 he was advised a chest radiograph with sputum microscopy (Ziehl Neelsen (ZN) staining for acid-fast bacilli), Cartridge-based nucleic acid amplification test (CBNAAT) of the sputum and other routine investigations. To check for the COVID-19 he was advised qualitative polymerase chain reaction (PCR) test from the oropharyngeal swab. The results were surprising with Mycobacterium tuberculosis detected on sputum fluorescent microscopy and were also confirmed by the CBNAAT. However, there was no resistance to Rifampicin. The results of the PCR were positive for RNA specific to SARS-CoV-2. Besides, the chest radiograph PA-view was suggestive of bilateral consolidations on the middle lobes of lungs with ill-defined borders. The other investigations revealed a low lymphocyte count (1x 10 9 /L) and increased levels of C-reactive protein (CRP) (57 mg/L), lactate dehydrogenase (LDH) (580 U/L), and erythrocyte sedimentation rate (ESR) (70 mm in the 1 st hour). Also, a sample for liquid culture (MGIT BACTEC) was sent to the Intermediate Reference Laboratory (IRL) which revealed the growth of Mycobacterium tuberculosis. Computed tomography was not performed as the diagnosis was established by other cheaper and faster methods and also the patient was unwilling for the same. All the other routine investigations were within normal limits.\\r\\nHe was referred to the nearest designated COVID-19 management center, where he was managed as per national guidelines. Besides, he was also started on an antitubercular treatment of four drugs as per the National Tuberculosis Elimination Program (NTEP) guidelines. He was advised follow-up post completion of his stay at the designated COVID-19 center, but he has not yet reported back for follow-up. Written informed consent was obtained from the patient for using clinical data and images for publication in this study.\\r\\n',\n",
       " 'original_id': 'EN100606',\n",
       " 'tokens': ['The',\n",
       "  'results',\n",
       "  'of',\n",
       "  'the',\n",
       "  'PCR',\n",
       "  'were',\n",
       "  'positive',\n",
       "  'for',\n",
       "  'RNA',\n",
       "  'specific',\n",
       "  'to',\n",
       "  'SARS-CoV-2.'],\n",
       " 'ner_tags': [0, 0, 0, 0, 1, 0, 1, 0, 0, 0, 0, 1],\n",
       " 'input_ids': [450,\n",
       "  2582,\n",
       "  310,\n",
       "  278,\n",
       "  9609,\n",
       "  29934,\n",
       "  892,\n",
       "  6374,\n",
       "  363,\n",
       "  390,\n",
       "  3521,\n",
       "  2702,\n",
       "  304,\n",
       "  317,\n",
       "  1718,\n",
       "  29903,\n",
       "  29899,\n",
       "  7967,\n",
       "  29963,\n",
       "  29899,\n",
       "  29906,\n",
       "  29889],\n",
       " 'attention_mask': [1,\n",
       "  1,\n",
       "  1,\n",
       "  1,\n",
       "  1,\n",
       "  1,\n",
       "  1,\n",
       "  1,\n",
       "  1,\n",
       "  1,\n",
       "  1,\n",
       "  1,\n",
       "  1,\n",
       "  1,\n",
       "  1,\n",
       "  1,\n",
       "  1,\n",
       "  1,\n",
       "  1,\n",
       "  1,\n",
       "  1,\n",
       "  1],\n",
       " 'labels': [0, 0, 0, 0, 1, 2, 0, 1, 0, 0, 0, 0, 0, 1, 2, 2, 2, 2, 2, 2, 2, 2],\n",
       " 'predictions': ['O',\n",
       "  'O',\n",
       "  'O',\n",
       "  'O',\n",
       "  'O',\n",
       "  'O',\n",
       "  'O',\n",
       "  'B',\n",
       "  'O',\n",
       "  'O',\n",
       "  'O',\n",
       "  'O',\n",
       "  'O',\n",
       "  'O',\n",
       "  'O',\n",
       "  'O',\n",
       "  'O',\n",
       "  'O',\n",
       "  'O',\n",
       "  'O',\n",
       "  'O',\n",
       "  'O'],\n",
       " 'ground_truth_labels': ['O',\n",
       "  'O',\n",
       "  'O',\n",
       "  'O',\n",
       "  'B',\n",
       "  'I',\n",
       "  'O',\n",
       "  'B',\n",
       "  'O',\n",
       "  'O',\n",
       "  'O',\n",
       "  'O',\n",
       "  'O',\n",
       "  'B',\n",
       "  'I',\n",
       "  'I',\n",
       "  'I',\n",
       "  'I',\n",
       "  'I',\n",
       "  'I',\n",
       "  'I',\n",
       "  'I']}"
      ]
     },
     "execution_count": 9,
     "metadata": {},
     "output_type": "execute_result"
    }
   ],
   "source": [
    "best_data[0]"
   ]
  }
 ],
 "metadata": {
  "kernelspec": {
   "display_name": ".venv",
   "language": "python",
   "name": "python3"
  },
  "language_info": {
   "codemirror_mode": {
    "name": "ipython",
    "version": 3
   },
   "file_extension": ".py",
   "mimetype": "text/x-python",
   "name": "python",
   "nbconvert_exporter": "python",
   "pygments_lexer": "ipython3",
   "version": "3.11.7"
  }
 },
 "nbformat": 4,
 "nbformat_minor": 2
}
